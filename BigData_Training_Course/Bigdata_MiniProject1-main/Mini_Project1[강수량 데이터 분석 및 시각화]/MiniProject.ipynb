{
 "cells": [
  {
   "cell_type": "code",
   "execution_count": 1,
   "id": "957c9ba1",
   "metadata": {},
   "outputs": [
    {
     "name": "stdout",
     "output_type": "stream",
     "text": [
      "/Users/ryu/Desktop/데스크탑 - ryuseungho의 MacBook Air/2022/Bigdata/Python/Mini_Project\n"
     ]
    }
   ],
   "source": [
    "import os\n",
    "print(os.getcwd())\n",
    "os.chdir('/Users/ryu/Desktop/데스크탑 - ryuseungho의 MacBook Air/2022/Bigdata/Python/Mini_Project/Mini_Project1[강수량 데이터 분석 및 시각화]/Data')"
   ]
  },
  {
   "cell_type": "code",
   "execution_count": 2,
   "id": "93009b3e",
   "metadata": {},
   "outputs": [],
   "source": [
    "import pandas as pd\n",
    "import matplotlib.pyplot as plt\n",
    "import numpy as np"
   ]
  },
  {
   "cell_type": "code",
   "execution_count": 3,
   "id": "ea0c0982",
   "metadata": {},
   "outputs": [],
   "source": [
    "from matplotlib import rc \n",
    "rc('font', family='AppleGothic')\n",
    "plt.rcParams['axes.unicode_minus'] = False  "
   ]
  },
  {
   "cell_type": "code",
   "execution_count": 4,
   "id": "d669cf60",
   "metadata": {},
   "outputs": [],
   "source": [
    "All = pd.read_csv('All_Precipitation.csv',encoding = 'cp949')"
   ]
  },
  {
   "cell_type": "code",
   "execution_count": 5,
   "id": "f7197c33",
   "metadata": {},
   "outputs": [
    {
     "data": {
      "text/html": [
       "<div>\n",
       "<style scoped>\n",
       "    .dataframe tbody tr th:only-of-type {\n",
       "        vertical-align: middle;\n",
       "    }\n",
       "\n",
       "    .dataframe tbody tr th {\n",
       "        vertical-align: top;\n",
       "    }\n",
       "\n",
       "    .dataframe thead th {\n",
       "        text-align: right;\n",
       "    }\n",
       "</style>\n",
       "<table border=\"1\" class=\"dataframe\">\n",
       "  <thead>\n",
       "    <tr style=\"text-align: right;\">\n",
       "      <th></th>\n",
       "      <th>지점번호</th>\n",
       "      <th>지점명</th>\n",
       "      <th>일시</th>\n",
       "      <th>강수량(mm)</th>\n",
       "      <th>일최다강수량(mm)</th>\n",
       "      <th>일최다강수량일자</th>\n",
       "      <th>1시간최다강수량(mm)</th>\n",
       "      <th>1시간최다강수량일자</th>\n",
       "    </tr>\n",
       "  </thead>\n",
       "  <tbody>\n",
       "    <tr>\n",
       "      <th>0</th>\n",
       "      <td>90</td>\n",
       "      <td>속초</td>\n",
       "      <td>1968.1.1</td>\n",
       "      <td>0.0</td>\n",
       "      <td>0.0</td>\n",
       "      <td>1968.1.24</td>\n",
       "      <td>0.0</td>\n",
       "      <td>1968.1.2</td>\n",
       "    </tr>\n",
       "    <tr>\n",
       "      <th>1</th>\n",
       "      <td>90</td>\n",
       "      <td>속초</td>\n",
       "      <td>1968.2.1</td>\n",
       "      <td>3.3</td>\n",
       "      <td>2.0</td>\n",
       "      <td>1968.2.29</td>\n",
       "      <td>0.0</td>\n",
       "      <td>1968.2.10</td>\n",
       "    </tr>\n",
       "    <tr>\n",
       "      <th>2</th>\n",
       "      <td>90</td>\n",
       "      <td>속초</td>\n",
       "      <td>1968.3.1</td>\n",
       "      <td>8.8</td>\n",
       "      <td>3.3</td>\n",
       "      <td>1968.3.24</td>\n",
       "      <td>NaN</td>\n",
       "      <td>NaN</td>\n",
       "    </tr>\n",
       "    <tr>\n",
       "      <th>3</th>\n",
       "      <td>90</td>\n",
       "      <td>속초</td>\n",
       "      <td>1968.4.1</td>\n",
       "      <td>6.9</td>\n",
       "      <td>3.4</td>\n",
       "      <td>1968.4.8</td>\n",
       "      <td>1.4</td>\n",
       "      <td>1968.4.5</td>\n",
       "    </tr>\n",
       "    <tr>\n",
       "      <th>4</th>\n",
       "      <td>90</td>\n",
       "      <td>속초</td>\n",
       "      <td>1968.5.1</td>\n",
       "      <td>49.1</td>\n",
       "      <td>31.8</td>\n",
       "      <td>1968.5.18</td>\n",
       "      <td>5.7</td>\n",
       "      <td>1968.5.18</td>\n",
       "    </tr>\n",
       "    <tr>\n",
       "      <th>...</th>\n",
       "      <td>...</td>\n",
       "      <td>...</td>\n",
       "      <td>...</td>\n",
       "      <td>...</td>\n",
       "      <td>...</td>\n",
       "      <td>...</td>\n",
       "      <td>...</td>\n",
       "      <td>...</td>\n",
       "    </tr>\n",
       "    <tr>\n",
       "      <th>49396</th>\n",
       "      <td>295</td>\n",
       "      <td>남해</td>\n",
       "      <td>2022.4.1</td>\n",
       "      <td>142.1</td>\n",
       "      <td>72.8</td>\n",
       "      <td>2022.4.26</td>\n",
       "      <td>29.0</td>\n",
       "      <td>2022.4.26</td>\n",
       "    </tr>\n",
       "    <tr>\n",
       "      <th>49397</th>\n",
       "      <td>295</td>\n",
       "      <td>남해</td>\n",
       "      <td>2022.5.1</td>\n",
       "      <td>6.7</td>\n",
       "      <td>6.0</td>\n",
       "      <td>2022.5.21</td>\n",
       "      <td>6.0</td>\n",
       "      <td>2022.5.21</td>\n",
       "    </tr>\n",
       "    <tr>\n",
       "      <th>49398</th>\n",
       "      <td>295</td>\n",
       "      <td>남해</td>\n",
       "      <td>2022.6.1</td>\n",
       "      <td>137.1</td>\n",
       "      <td>47.7</td>\n",
       "      <td>2022.6.5</td>\n",
       "      <td>17.1</td>\n",
       "      <td>2022.6.24</td>\n",
       "    </tr>\n",
       "    <tr>\n",
       "      <th>49399</th>\n",
       "      <td>295</td>\n",
       "      <td>남해</td>\n",
       "      <td>2022.7.1</td>\n",
       "      <td>236.5</td>\n",
       "      <td>77.5</td>\n",
       "      <td>2022.7.18</td>\n",
       "      <td>31.4</td>\n",
       "      <td>2022.7.11</td>\n",
       "    </tr>\n",
       "    <tr>\n",
       "      <th>49400</th>\n",
       "      <td>295</td>\n",
       "      <td>남해</td>\n",
       "      <td>2022.8.1</td>\n",
       "      <td>59.9</td>\n",
       "      <td>29.5</td>\n",
       "      <td>2022.8.2</td>\n",
       "      <td>11.6</td>\n",
       "      <td>2022.8.2</td>\n",
       "    </tr>\n",
       "  </tbody>\n",
       "</table>\n",
       "<p>49401 rows × 8 columns</p>\n",
       "</div>"
      ],
      "text/plain": [
       "          지점번호 지점명        일시  강수량(mm)  일최다강수량(mm)   일최다강수량일자  1시간최다강수량(mm)  \\\n",
       "0           90  속초  1968.1.1      0.0         0.0  1968.1.24           0.0   \n",
       "1           90  속초  1968.2.1      3.3         2.0  1968.2.29           0.0   \n",
       "2           90  속초  1968.3.1      8.8         3.3  1968.3.24           NaN   \n",
       "3           90  속초  1968.4.1      6.9         3.4   1968.4.8           1.4   \n",
       "4           90  속초  1968.5.1     49.1        31.8  1968.5.18           5.7   \n",
       "...        ...  ..       ...      ...         ...        ...           ...   \n",
       "49396      295  남해  2022.4.1    142.1        72.8  2022.4.26          29.0   \n",
       "49397      295  남해  2022.5.1      6.7         6.0  2022.5.21           6.0   \n",
       "49398      295  남해  2022.6.1    137.1        47.7   2022.6.5          17.1   \n",
       "49399      295  남해  2022.7.1    236.5        77.5  2022.7.18          31.4   \n",
       "49400      295  남해  2022.8.1     59.9        29.5   2022.8.2          11.6   \n",
       "\n",
       "      1시간최다강수량일자  \n",
       "0       1968.1.2  \n",
       "1      1968.2.10  \n",
       "2            NaN  \n",
       "3       1968.4.5  \n",
       "4      1968.5.18  \n",
       "...          ...  \n",
       "49396  2022.4.26  \n",
       "49397  2022.5.21  \n",
       "49398  2022.6.24  \n",
       "49399  2022.7.11  \n",
       "49400   2022.8.2  \n",
       "\n",
       "[49401 rows x 8 columns]"
      ]
     },
     "execution_count": 5,
     "metadata": {},
     "output_type": "execute_result"
    }
   ],
   "source": [
    "All"
   ]
  },
  {
   "cell_type": "markdown",
   "id": "b5fb7128",
   "metadata": {},
   "source": [
    "# 데이터 확인"
   ]
  },
  {
   "cell_type": "code",
   "execution_count": 6,
   "id": "6da8588e",
   "metadata": {
    "scrolled": true
   },
   "outputs": [
    {
     "name": "stdout",
     "output_type": "stream",
     "text": [
      "<class 'pandas.core.frame.DataFrame'>\n",
      "RangeIndex: 49401 entries, 0 to 49400\n",
      "Data columns (total 8 columns):\n",
      " #   Column        Non-Null Count  Dtype  \n",
      "---  ------        --------------  -----  \n",
      " 0      지점번호       49401 non-null  int64  \n",
      " 1   지점명           49401 non-null  object \n",
      " 2   일시            49401 non-null  object \n",
      " 3   강수량(mm)       49021 non-null  float64\n",
      " 4   일최다강수량(mm)    49021 non-null  float64\n",
      " 5   일최다강수량일자      49021 non-null  object \n",
      " 6   1시간최다강수량(mm)  30939 non-null  float64\n",
      " 7   1시간최다강수량일자    30939 non-null  object \n",
      "dtypes: float64(3), int64(1), object(4)\n",
      "memory usage: 3.0+ MB\n"
     ]
    }
   ],
   "source": [
    "All.info()"
   ]
  },
  {
   "cell_type": "markdown",
   "id": "627feb9c",
   "metadata": {},
   "source": [
    "## object type을 날짜 데이터로 바꾸기"
   ]
  },
  {
   "cell_type": "code",
   "execution_count": 7,
   "id": "f03acf68",
   "metadata": {},
   "outputs": [],
   "source": [
    "All['일시'] = pd.to_datetime(All['일시'])"
   ]
  },
  {
   "cell_type": "code",
   "execution_count": 8,
   "id": "c4639a99",
   "metadata": {},
   "outputs": [],
   "source": [
    "All['일최다강수량일자'] = pd.to_datetime(All['일최다강수량일자'])"
   ]
  },
  {
   "cell_type": "code",
   "execution_count": 9,
   "id": "92cff8dc",
   "metadata": {},
   "outputs": [],
   "source": [
    "All['1시간최다강수량일자'] = pd.to_datetime(All['1시간최다강수량일자'])"
   ]
  },
  {
   "cell_type": "code",
   "execution_count": 10,
   "id": "1ddb1565",
   "metadata": {},
   "outputs": [],
   "source": [
    "# All['최고기온일자'] = pd.to_datetime(All['최고기온일자'])"
   ]
  },
  {
   "cell_type": "code",
   "execution_count": 11,
   "id": "bef0d9d3",
   "metadata": {},
   "outputs": [],
   "source": [
    "# All['최저기온일자'] = pd.to_datetime(All['최저기온일자'])"
   ]
  },
  {
   "cell_type": "code",
   "execution_count": 12,
   "id": "b25dfb7a",
   "metadata": {},
   "outputs": [
    {
     "name": "stdout",
     "output_type": "stream",
     "text": [
      "<class 'pandas.core.frame.DataFrame'>\n",
      "RangeIndex: 49401 entries, 0 to 49400\n",
      "Data columns (total 8 columns):\n",
      " #   Column        Non-Null Count  Dtype         \n",
      "---  ------        --------------  -----         \n",
      " 0      지점번호       49401 non-null  int64         \n",
      " 1   지점명           49401 non-null  object        \n",
      " 2   일시            49401 non-null  datetime64[ns]\n",
      " 3   강수량(mm)       49021 non-null  float64       \n",
      " 4   일최다강수량(mm)    49021 non-null  float64       \n",
      " 5   일최다강수량일자      49021 non-null  datetime64[ns]\n",
      " 6   1시간최다강수량(mm)  30939 non-null  float64       \n",
      " 7   1시간최다강수량일자    30939 non-null  datetime64[ns]\n",
      "dtypes: datetime64[ns](3), float64(3), int64(1), object(1)\n",
      "memory usage: 3.0+ MB\n"
     ]
    }
   ],
   "source": [
    "All.info()"
   ]
  },
  {
   "cell_type": "markdown",
   "id": "73578630",
   "metadata": {},
   "source": [
    "## 날짜 데이터 확인 현재기준(1960~2022년 8월)사이에 데이터가 있어야한다"
   ]
  },
  {
   "cell_type": "code",
   "execution_count": 13,
   "id": "2973cdf3",
   "metadata": {},
   "outputs": [
    {
     "data": {
      "text/plain": [
       "Timestamp('2022-08-01 00:00:00')"
      ]
     },
     "execution_count": 13,
     "metadata": {},
     "output_type": "execute_result"
    }
   ],
   "source": [
    "All['일시'].max()"
   ]
  },
  {
   "cell_type": "code",
   "execution_count": 14,
   "id": "018afd13",
   "metadata": {},
   "outputs": [
    {
     "data": {
      "text/plain": [
       "Timestamp('1960-01-01 00:00:00')"
      ]
     },
     "execution_count": 14,
     "metadata": {},
     "output_type": "execute_result"
    }
   ],
   "source": [
    "All['일시'].min()"
   ]
  },
  {
   "cell_type": "code",
   "execution_count": 15,
   "id": "5a0a83a1",
   "metadata": {
    "scrolled": true
   },
   "outputs": [
    {
     "data": {
      "text/plain": [
       "Timestamp('2022-08-03 00:00:00')"
      ]
     },
     "execution_count": 15,
     "metadata": {},
     "output_type": "execute_result"
    }
   ],
   "source": [
    "All['일최다강수량일자'].max()"
   ]
  },
  {
   "cell_type": "code",
   "execution_count": 16,
   "id": "4c46e8d4",
   "metadata": {},
   "outputs": [
    {
     "data": {
      "text/plain": [
       "Timestamp('1960-01-16 00:00:00')"
      ]
     },
     "execution_count": 16,
     "metadata": {},
     "output_type": "execute_result"
    }
   ],
   "source": [
    "All['일최다강수량일자'].min()"
   ]
  },
  {
   "cell_type": "code",
   "execution_count": 17,
   "id": "de00e366",
   "metadata": {},
   "outputs": [
    {
     "data": {
      "text/plain": [
       "Timestamp('2022-08-03 00:00:00')"
      ]
     },
     "execution_count": 17,
     "metadata": {},
     "output_type": "execute_result"
    }
   ],
   "source": [
    "All['1시간최다강수량일자'].max()"
   ]
  },
  {
   "cell_type": "code",
   "execution_count": 18,
   "id": "780e7b4d",
   "metadata": {},
   "outputs": [
    {
     "data": {
      "text/plain": [
       "Timestamp('1960-01-14 00:00:00')"
      ]
     },
     "execution_count": 18,
     "metadata": {},
     "output_type": "execute_result"
    }
   ],
   "source": [
    "All['1시간최다강수량일자'].min()"
   ]
  },
  {
   "cell_type": "markdown",
   "id": "4009dd91",
   "metadata": {},
   "source": [
    "# 결측값 작업"
   ]
  },
  {
   "cell_type": "markdown",
   "id": "72096b2d",
   "metadata": {},
   "source": [
    "## 결측값 확인"
   ]
  },
  {
   "cell_type": "code",
   "execution_count": 19,
   "id": "97838748",
   "metadata": {},
   "outputs": [
    {
     "data": {
      "text/plain": [
       "True"
      ]
     },
     "execution_count": 19,
     "metadata": {},
     "output_type": "execute_result"
    }
   ],
   "source": [
    "# 결측치 있는지 확인\n",
    "All.isnull().values.any()"
   ]
  },
  {
   "cell_type": "code",
   "execution_count": 20,
   "id": "058fe896",
   "metadata": {
    "scrolled": true
   },
   "outputs": [
    {
     "data": {
      "text/plain": [
       "   지점번호         False\n",
       "지점명             False\n",
       "일시              False\n",
       "강수량(mm)          True\n",
       "일최다강수량(mm)       True\n",
       "일최다강수량일자         True\n",
       "1시간최다강수량(mm)     True\n",
       "1시간최다강수량일자       True\n",
       "dtype: bool"
      ]
     },
     "execution_count": 20,
     "metadata": {},
     "output_type": "execute_result"
    }
   ],
   "source": [
    "# 열(컬럼)별 결측치 확인\n",
    "All.isnull().any()"
   ]
  },
  {
   "cell_type": "markdown",
   "id": "9fdb511f",
   "metadata": {},
   "source": [
    "## 결측값 제거"
   ]
  },
  {
   "cell_type": "code",
   "execution_count": 21,
   "id": "b0de568e",
   "metadata": {},
   "outputs": [],
   "source": [
    "All['강수량(mm)'] = All['강수량(mm)'].fillna(0)"
   ]
  },
  {
   "cell_type": "code",
   "execution_count": 22,
   "id": "499c262c",
   "metadata": {},
   "outputs": [],
   "source": [
    "All['일최다강수량(mm)'] = All['일최다강수량(mm)'].fillna(0)"
   ]
  },
  {
   "cell_type": "code",
   "execution_count": 23,
   "id": "aa43fdbc",
   "metadata": {},
   "outputs": [],
   "source": [
    "All['1시간최다강수량(mm)'] = All['1시간최다강수량(mm)'].fillna(0)"
   ]
  },
  {
   "cell_type": "code",
   "execution_count": 24,
   "id": "e699c427",
   "metadata": {},
   "outputs": [],
   "source": [
    "# All['평균기온(℃)'] = All['평균기온(℃)'].fillna(0)"
   ]
  },
  {
   "cell_type": "code",
   "execution_count": 25,
   "id": "7de2d420",
   "metadata": {},
   "outputs": [],
   "source": [
    "# All['평균최고기온(℃)'] = All['평균최고기온(℃)'].fillna(0)"
   ]
  },
  {
   "cell_type": "code",
   "execution_count": 26,
   "id": "ba2aabc3",
   "metadata": {},
   "outputs": [],
   "source": [
    "# All['최고기온(℃)'] = All['최고기온(℃)'].fillna(0)"
   ]
  },
  {
   "cell_type": "code",
   "execution_count": 27,
   "id": "1914e260",
   "metadata": {},
   "outputs": [],
   "source": [
    "# All['평균최저기온(℃)'] = All['평균최저기온(℃)'].fillna(0)"
   ]
  },
  {
   "cell_type": "code",
   "execution_count": 28,
   "id": "11795912",
   "metadata": {},
   "outputs": [],
   "source": [
    "# All['최저기온(℃)'] = All['최저기온(℃)'].fillna(0)"
   ]
  },
  {
   "cell_type": "code",
   "execution_count": 29,
   "id": "d5ecd7a4",
   "metadata": {
    "scrolled": true
   },
   "outputs": [
    {
     "data": {
      "text/plain": [
       "   지점번호         False\n",
       "지점명             False\n",
       "일시              False\n",
       "강수량(mm)         False\n",
       "일최다강수량(mm)      False\n",
       "일최다강수량일자         True\n",
       "1시간최다강수량(mm)    False\n",
       "1시간최다강수량일자       True\n",
       "dtype: bool"
      ]
     },
     "execution_count": 29,
     "metadata": {},
     "output_type": "execute_result"
    }
   ],
   "source": [
    "All.isnull().any()"
   ]
  },
  {
   "cell_type": "markdown",
   "id": "793c86d7",
   "metadata": {},
   "source": [
    "---"
   ]
  },
  {
   "cell_type": "markdown",
   "id": "db457511",
   "metadata": {},
   "source": [
    "# 지점 검색"
   ]
  },
  {
   "cell_type": "markdown",
   "id": "fda6bbb2",
   "metadata": {},
   "source": [
    "## 지점 데이터 출력"
   ]
  },
  {
   "cell_type": "code",
   "execution_count": 73,
   "id": "a8264f5a",
   "metadata": {},
   "outputs": [
    {
     "name": "stdout",
     "output_type": "stream",
     "text": [
      "지역 입력(시군구) : 밀양\n"
     ]
    },
    {
     "data": {
      "text/html": [
       "<div>\n",
       "<style scoped>\n",
       "    .dataframe tbody tr th:only-of-type {\n",
       "        vertical-align: middle;\n",
       "    }\n",
       "\n",
       "    .dataframe tbody tr th {\n",
       "        vertical-align: top;\n",
       "    }\n",
       "\n",
       "    .dataframe thead th {\n",
       "        text-align: right;\n",
       "    }\n",
       "</style>\n",
       "<table border=\"1\" class=\"dataframe\">\n",
       "  <thead>\n",
       "    <tr style=\"text-align: right;\">\n",
       "      <th></th>\n",
       "      <th>지점번호</th>\n",
       "      <th>지점명</th>\n",
       "      <th>일시</th>\n",
       "      <th>강수량(mm)</th>\n",
       "      <th>일최다강수량(mm)</th>\n",
       "      <th>일최다강수량일자</th>\n",
       "      <th>1시간최다강수량(mm)</th>\n",
       "      <th>1시간최다강수량일자</th>\n",
       "      <th>Month</th>\n",
       "      <th>Season</th>\n",
       "    </tr>\n",
       "  </thead>\n",
       "  <tbody>\n",
       "    <tr>\n",
       "      <th>46982</th>\n",
       "      <td>288</td>\n",
       "      <td>밀양</td>\n",
       "      <td>1972-01-01</td>\n",
       "      <td>0.0</td>\n",
       "      <td>0.0</td>\n",
       "      <td>NaT</td>\n",
       "      <td>0.0</td>\n",
       "      <td>NaT</td>\n",
       "      <td>1</td>\n",
       "      <td>4</td>\n",
       "    </tr>\n",
       "    <tr>\n",
       "      <th>46983</th>\n",
       "      <td>288</td>\n",
       "      <td>밀양</td>\n",
       "      <td>1973-01-01</td>\n",
       "      <td>47.5</td>\n",
       "      <td>23.3</td>\n",
       "      <td>1973-01-24</td>\n",
       "      <td>4.0</td>\n",
       "      <td>1973-01-24</td>\n",
       "      <td>1</td>\n",
       "      <td>4</td>\n",
       "    </tr>\n",
       "    <tr>\n",
       "      <th>46984</th>\n",
       "      <td>288</td>\n",
       "      <td>밀양</td>\n",
       "      <td>1973-02-01</td>\n",
       "      <td>28.8</td>\n",
       "      <td>9.6</td>\n",
       "      <td>1973-02-22</td>\n",
       "      <td>2.5</td>\n",
       "      <td>1973-02-22</td>\n",
       "      <td>2</td>\n",
       "      <td>4</td>\n",
       "    </tr>\n",
       "    <tr>\n",
       "      <th>46985</th>\n",
       "      <td>288</td>\n",
       "      <td>밀양</td>\n",
       "      <td>1973-03-01</td>\n",
       "      <td>9.1</td>\n",
       "      <td>4.4</td>\n",
       "      <td>1973-03-09</td>\n",
       "      <td>1.5</td>\n",
       "      <td>1973-03-09</td>\n",
       "      <td>3</td>\n",
       "      <td>1</td>\n",
       "    </tr>\n",
       "    <tr>\n",
       "      <th>46986</th>\n",
       "      <td>288</td>\n",
       "      <td>밀양</td>\n",
       "      <td>1973-04-01</td>\n",
       "      <td>162.5</td>\n",
       "      <td>72.2</td>\n",
       "      <td>1973-04-24</td>\n",
       "      <td>19.0</td>\n",
       "      <td>1973-04-24</td>\n",
       "      <td>4</td>\n",
       "      <td>1</td>\n",
       "    </tr>\n",
       "    <tr>\n",
       "      <th>...</th>\n",
       "      <td>...</td>\n",
       "      <td>...</td>\n",
       "      <td>...</td>\n",
       "      <td>...</td>\n",
       "      <td>...</td>\n",
       "      <td>...</td>\n",
       "      <td>...</td>\n",
       "      <td>...</td>\n",
       "      <td>...</td>\n",
       "      <td>...</td>\n",
       "    </tr>\n",
       "    <tr>\n",
       "      <th>47574</th>\n",
       "      <td>288</td>\n",
       "      <td>밀양</td>\n",
       "      <td>2022-04-01</td>\n",
       "      <td>59.6</td>\n",
       "      <td>37.5</td>\n",
       "      <td>2022-04-26</td>\n",
       "      <td>21.0</td>\n",
       "      <td>2022-04-26</td>\n",
       "      <td>4</td>\n",
       "      <td>1</td>\n",
       "    </tr>\n",
       "    <tr>\n",
       "      <th>47575</th>\n",
       "      <td>288</td>\n",
       "      <td>밀양</td>\n",
       "      <td>2022-05-01</td>\n",
       "      <td>3.3</td>\n",
       "      <td>3.3</td>\n",
       "      <td>2022-05-02</td>\n",
       "      <td>2.6</td>\n",
       "      <td>2022-05-02</td>\n",
       "      <td>5</td>\n",
       "      <td>1</td>\n",
       "    </tr>\n",
       "    <tr>\n",
       "      <th>47576</th>\n",
       "      <td>288</td>\n",
       "      <td>밀양</td>\n",
       "      <td>2022-06-01</td>\n",
       "      <td>232.8</td>\n",
       "      <td>125.6</td>\n",
       "      <td>2022-06-27</td>\n",
       "      <td>38.4</td>\n",
       "      <td>2022-06-27</td>\n",
       "      <td>6</td>\n",
       "      <td>2</td>\n",
       "    </tr>\n",
       "    <tr>\n",
       "      <th>47577</th>\n",
       "      <td>288</td>\n",
       "      <td>밀양</td>\n",
       "      <td>2022-07-01</td>\n",
       "      <td>112.8</td>\n",
       "      <td>68.3</td>\n",
       "      <td>2022-07-18</td>\n",
       "      <td>19.2</td>\n",
       "      <td>2022-07-18</td>\n",
       "      <td>7</td>\n",
       "      <td>2</td>\n",
       "    </tr>\n",
       "    <tr>\n",
       "      <th>47578</th>\n",
       "      <td>288</td>\n",
       "      <td>밀양</td>\n",
       "      <td>2022-08-01</td>\n",
       "      <td>31.0</td>\n",
       "      <td>30.9</td>\n",
       "      <td>2022-08-02</td>\n",
       "      <td>19.8</td>\n",
       "      <td>2022-08-02</td>\n",
       "      <td>8</td>\n",
       "      <td>2</td>\n",
       "    </tr>\n",
       "  </tbody>\n",
       "</table>\n",
       "<p>597 rows × 10 columns</p>\n",
       "</div>"
      ],
      "text/plain": [
       "          지점번호 지점명         일시  강수량(mm)  일최다강수량(mm)   일최다강수량일자  1시간최다강수량(mm)  \\\n",
       "46982      288  밀양 1972-01-01      0.0         0.0        NaT           0.0   \n",
       "46983      288  밀양 1973-01-01     47.5        23.3 1973-01-24           4.0   \n",
       "46984      288  밀양 1973-02-01     28.8         9.6 1973-02-22           2.5   \n",
       "46985      288  밀양 1973-03-01      9.1         4.4 1973-03-09           1.5   \n",
       "46986      288  밀양 1973-04-01    162.5        72.2 1973-04-24          19.0   \n",
       "...        ...  ..        ...      ...         ...        ...           ...   \n",
       "47574      288  밀양 2022-04-01     59.6        37.5 2022-04-26          21.0   \n",
       "47575      288  밀양 2022-05-01      3.3         3.3 2022-05-02           2.6   \n",
       "47576      288  밀양 2022-06-01    232.8       125.6 2022-06-27          38.4   \n",
       "47577      288  밀양 2022-07-01    112.8        68.3 2022-07-18          19.2   \n",
       "47578      288  밀양 2022-08-01     31.0        30.9 2022-08-02          19.8   \n",
       "\n",
       "      1시간최다강수량일자  Month  Season  \n",
       "46982        NaT      1       4  \n",
       "46983 1973-01-24      1       4  \n",
       "46984 1973-02-22      2       4  \n",
       "46985 1973-03-09      3       1  \n",
       "46986 1973-04-24      4       1  \n",
       "...          ...    ...     ...  \n",
       "47574 2022-04-26      4       1  \n",
       "47575 2022-05-02      5       1  \n",
       "47576 2022-06-27      6       2  \n",
       "47577 2022-07-18      7       2  \n",
       "47578 2022-08-02      8       2  \n",
       "\n",
       "[597 rows x 10 columns]"
      ]
     },
     "execution_count": 73,
     "metadata": {},
     "output_type": "execute_result"
    }
   ],
   "source": [
    "area = input(\"지역 입력(시군구) : \")\n",
    "All.loc[All['지점명']==area]"
   ]
  },
  {
   "cell_type": "markdown",
   "id": "70d34d8c",
   "metadata": {},
   "source": [
    "## 지점 통계량"
   ]
  },
  {
   "cell_type": "code",
   "execution_count": 75,
   "id": "fb8a192d",
   "metadata": {},
   "outputs": [
    {
     "name": "stdout",
     "output_type": "stream",
     "text": [
      "지역 입력(시군구): 밀양\n"
     ]
    },
    {
     "data": {
      "text/plain": [
       "count    597.000000\n",
       "mean     101.611055\n",
       "std      109.346063\n",
       "min        0.000000\n",
       "25%       25.400000\n",
       "50%       61.200000\n",
       "75%      136.000000\n",
       "max      695.000000\n",
       "Name: 강수량(mm), dtype: float64"
      ]
     },
     "execution_count": 75,
     "metadata": {},
     "output_type": "execute_result"
    }
   ],
   "source": [
    "area = input('지역 입력(시군구): ')\n",
    "All.loc[All['지점명']==area]['강수량(mm)'].describe()"
   ]
  },
  {
   "cell_type": "markdown",
   "id": "5267ba02",
   "metadata": {},
   "source": [
    "## 지점별 최대 강수량(상위 30지점)"
   ]
  },
  {
   "cell_type": "code",
   "execution_count": 76,
   "id": "6c6b05f1",
   "metadata": {},
   "outputs": [],
   "source": [
    "All_P_Max = All.groupby('지점명',as_index = False)['강수량(mm)'].max().sort_values(by= '강수량(mm)', ascending=False).head(30)"
   ]
  },
  {
   "cell_type": "markdown",
   "id": "b36b2f05",
   "metadata": {},
   "source": [
    "## 지점별 최대 강수량 그래프(상위30지점)"
   ]
  },
  {
   "cell_type": "code",
   "execution_count": 77,
   "id": "71061d6d",
   "metadata": {
    "scrolled": false
   },
   "outputs": [
    {
     "data": {
      "image/png": "[encoded data removed]",
      "text/plain": [
       "<Figure size 900x600 with 1 Axes>"
      ]
     },
     "metadata": {
      "needs_background": "light"
     },
     "output_type": "display_data"
    }
   ],
   "source": [
    "plt.rc('font', family = 'AppleGothic') # 그래프 글꼴\n",
    "plt.figure(dpi = 150) # 그래프 크기\n",
    "plt.plot(range(30),All_P_Max['강수량(mm)'])\n",
    "plt.title('지점별 강수량(상위30)')\n",
    "plt.xticks(range(30),All_P_Max['지점명'],rotation = 90)\n",
    "plt.show()"
   ]
  },
  {
   "cell_type": "markdown",
   "id": "9720e6b9",
   "metadata": {},
   "source": [
    "## 지점별 최대 강수량(하위 30개 지점)"
   ]
  },
  {
   "cell_type": "code",
   "execution_count": 34,
   "id": "496d2524",
   "metadata": {},
   "outputs": [],
   "source": [
    "All_P_Min = All.groupby('지점명',as_index = False)['강수량(mm)'].max().sort_values(by = '강수량(mm)').head(30)"
   ]
  },
  {
   "cell_type": "markdown",
   "id": "92f7cb61",
   "metadata": {},
   "source": [
    "## 지점별 최대 강수량(하위 30개 지점)"
   ]
  },
  {
   "cell_type": "code",
   "execution_count": 35,
   "id": "fde108b7",
   "metadata": {},
   "outputs": [
    {
     "data": {
      "image/png": "[encoded data removed]",
      "text/plain": [
       "<Figure size 1200x800 with 1 Axes>"
      ]
     },
     "metadata": {
      "needs_background": "light"
     },
     "output_type": "display_data"
    }
   ],
   "source": [
    "plt.rc('font',family = 'AppleGothic')  # 그래츠 글꼴\n",
    "plt.figure(dpi= 200) # 그래프 크기\n",
    "plt.plot(range(30),All_P_Min['강수량(mm)'])\n",
    "plt.title('지점별 강수량(하위30)')\n",
    "plt.xticks(range(30),All_P_Min['지점명'],rotation = 90)\n",
    "plt.show()"
   ]
  },
  {
   "cell_type": "markdown",
   "id": "7511be9c",
   "metadata": {},
   "source": [
    "## ==> 1960년~2022년까지 데이터중 최대 강수량은 서울에 제일 높고 청송이 제일 낮다\n",
    "---"
   ]
  },
  {
   "cell_type": "code",
   "execution_count": 82,
   "id": "8aec43ca",
   "metadata": {},
   "outputs": [
    {
     "name": "stdout",
     "output_type": "stream",
     "text": [
      "년도 입력 : 2021\n"
     ]
    },
    {
     "data": {
      "text/html": [
       "<div>\n",
       "<style scoped>\n",
       "    .dataframe tbody tr th:only-of-type {\n",
       "        vertical-align: middle;\n",
       "    }\n",
       "\n",
       "    .dataframe tbody tr th {\n",
       "        vertical-align: top;\n",
       "    }\n",
       "\n",
       "    .dataframe thead th {\n",
       "        text-align: right;\n",
       "    }\n",
       "</style>\n",
       "<table border=\"1\" class=\"dataframe\">\n",
       "  <thead>\n",
       "    <tr style=\"text-align: right;\">\n",
       "      <th></th>\n",
       "      <th>지점번호</th>\n",
       "      <th>지점명</th>\n",
       "      <th>일시</th>\n",
       "      <th>강수량(mm)</th>\n",
       "      <th>일최다강수량(mm)</th>\n",
       "      <th>일최다강수량일자</th>\n",
       "      <th>1시간최다강수량(mm)</th>\n",
       "      <th>1시간최다강수량일자</th>\n",
       "      <th>Month</th>\n",
       "      <th>Season</th>\n",
       "    </tr>\n",
       "  </thead>\n",
       "  <tbody>\n",
       "    <tr>\n",
       "      <th>636</th>\n",
       "      <td>90</td>\n",
       "      <td>속초</td>\n",
       "      <td>2021-01-01</td>\n",
       "      <td>0.0</td>\n",
       "      <td>0.0</td>\n",
       "      <td>2021-01-31</td>\n",
       "      <td>0.0</td>\n",
       "      <td>NaT</td>\n",
       "      <td>1</td>\n",
       "      <td>4</td>\n",
       "    </tr>\n",
       "    <tr>\n",
       "      <th>637</th>\n",
       "      <td>90</td>\n",
       "      <td>속초</td>\n",
       "      <td>2021-02-01</td>\n",
       "      <td>5.0</td>\n",
       "      <td>4.8</td>\n",
       "      <td>2021-02-27</td>\n",
       "      <td>0.0</td>\n",
       "      <td>NaT</td>\n",
       "      <td>2</td>\n",
       "      <td>4</td>\n",
       "    </tr>\n",
       "    <tr>\n",
       "      <th>638</th>\n",
       "      <td>90</td>\n",
       "      <td>속초</td>\n",
       "      <td>2021-03-01</td>\n",
       "      <td>104.2</td>\n",
       "      <td>73.4</td>\n",
       "      <td>2021-03-01</td>\n",
       "      <td>0.0</td>\n",
       "      <td>NaT</td>\n",
       "      <td>3</td>\n",
       "      <td>1</td>\n",
       "    </tr>\n",
       "    <tr>\n",
       "      <th>639</th>\n",
       "      <td>90</td>\n",
       "      <td>속초</td>\n",
       "      <td>2021-04-01</td>\n",
       "      <td>97.2</td>\n",
       "      <td>40.5</td>\n",
       "      <td>2021-04-03</td>\n",
       "      <td>5.9</td>\n",
       "      <td>2021-04-03</td>\n",
       "      <td>4</td>\n",
       "      <td>1</td>\n",
       "    </tr>\n",
       "    <tr>\n",
       "      <th>640</th>\n",
       "      <td>90</td>\n",
       "      <td>속초</td>\n",
       "      <td>2021-05-01</td>\n",
       "      <td>154.9</td>\n",
       "      <td>67.0</td>\n",
       "      <td>2021-05-16</td>\n",
       "      <td>12.1</td>\n",
       "      <td>2021-05-16</td>\n",
       "      <td>5</td>\n",
       "      <td>1</td>\n",
       "    </tr>\n",
       "    <tr>\n",
       "      <th>...</th>\n",
       "      <td>...</td>\n",
       "      <td>...</td>\n",
       "      <td>...</td>\n",
       "      <td>...</td>\n",
       "      <td>...</td>\n",
       "      <td>...</td>\n",
       "      <td>...</td>\n",
       "      <td>...</td>\n",
       "      <td>...</td>\n",
       "      <td>...</td>\n",
       "    </tr>\n",
       "    <tr>\n",
       "      <th>49388</th>\n",
       "      <td>295</td>\n",
       "      <td>남해</td>\n",
       "      <td>2021-08-01</td>\n",
       "      <td>473.2</td>\n",
       "      <td>185.7</td>\n",
       "      <td>2021-08-21</td>\n",
       "      <td>73.5</td>\n",
       "      <td>2021-08-21</td>\n",
       "      <td>8</td>\n",
       "      <td>2</td>\n",
       "    </tr>\n",
       "    <tr>\n",
       "      <th>49389</th>\n",
       "      <td>295</td>\n",
       "      <td>남해</td>\n",
       "      <td>2021-09-01</td>\n",
       "      <td>164.6</td>\n",
       "      <td>56.2</td>\n",
       "      <td>2021-09-29</td>\n",
       "      <td>26.4</td>\n",
       "      <td>2021-09-29</td>\n",
       "      <td>9</td>\n",
       "      <td>3</td>\n",
       "    </tr>\n",
       "    <tr>\n",
       "      <th>49390</th>\n",
       "      <td>295</td>\n",
       "      <td>남해</td>\n",
       "      <td>2021-10-01</td>\n",
       "      <td>43.6</td>\n",
       "      <td>18.2</td>\n",
       "      <td>2021-10-10</td>\n",
       "      <td>11.4</td>\n",
       "      <td>2021-10-10</td>\n",
       "      <td>10</td>\n",
       "      <td>3</td>\n",
       "    </tr>\n",
       "    <tr>\n",
       "      <th>49391</th>\n",
       "      <td>295</td>\n",
       "      <td>남해</td>\n",
       "      <td>2021-11-01</td>\n",
       "      <td>53.5</td>\n",
       "      <td>31.3</td>\n",
       "      <td>2021-11-08</td>\n",
       "      <td>0.0</td>\n",
       "      <td>NaT</td>\n",
       "      <td>11</td>\n",
       "      <td>3</td>\n",
       "    </tr>\n",
       "    <tr>\n",
       "      <th>49392</th>\n",
       "      <td>295</td>\n",
       "      <td>남해</td>\n",
       "      <td>2021-12-01</td>\n",
       "      <td>2.4</td>\n",
       "      <td>2.4</td>\n",
       "      <td>2021-12-16</td>\n",
       "      <td>0.0</td>\n",
       "      <td>NaT</td>\n",
       "      <td>12</td>\n",
       "      <td>4</td>\n",
       "    </tr>\n",
       "  </tbody>\n",
       "</table>\n",
       "<p>1140 rows × 10 columns</p>\n",
       "</div>"
      ],
      "text/plain": [
       "          지점번호 지점명         일시  강수량(mm)  일최다강수량(mm)   일최다강수량일자  1시간최다강수량(mm)  \\\n",
       "636         90  속초 2021-01-01      0.0         0.0 2021-01-31           0.0   \n",
       "637         90  속초 2021-02-01      5.0         4.8 2021-02-27           0.0   \n",
       "638         90  속초 2021-03-01    104.2        73.4 2021-03-01           0.0   \n",
       "639         90  속초 2021-04-01     97.2        40.5 2021-04-03           5.9   \n",
       "640         90  속초 2021-05-01    154.9        67.0 2021-05-16          12.1   \n",
       "...        ...  ..        ...      ...         ...        ...           ...   \n",
       "49388      295  남해 2021-08-01    473.2       185.7 2021-08-21          73.5   \n",
       "49389      295  남해 2021-09-01    164.6        56.2 2021-09-29          26.4   \n",
       "49390      295  남해 2021-10-01     43.6        18.2 2021-10-10          11.4   \n",
       "49391      295  남해 2021-11-01     53.5        31.3 2021-11-08           0.0   \n",
       "49392      295  남해 2021-12-01      2.4         2.4 2021-12-16           0.0   \n",
       "\n",
       "      1시간최다강수량일자  Month  Season  \n",
       "636          NaT      1       4  \n",
       "637          NaT      2       4  \n",
       "638          NaT      3       1  \n",
       "639   2021-04-03      4       1  \n",
       "640   2021-05-16      5       1  \n",
       "...          ...    ...     ...  \n",
       "49388 2021-08-21      8       2  \n",
       "49389 2021-09-29      9       3  \n",
       "49390 2021-10-10     10       3  \n",
       "49391        NaT     11       3  \n",
       "49392        NaT     12       4  \n",
       "\n",
       "[1140 rows x 10 columns]"
      ]
     },
     "execution_count": 82,
     "metadata": {},
     "output_type": "execute_result"
    }
   ],
   "source": [
    "year_y = int(input('년도 입력 : '))\n",
    "All.loc[All['일시'].dt.year==year_y]"
   ]
  },
  {
   "cell_type": "markdown",
   "id": "29055018",
   "metadata": {},
   "source": [
    "# 년도 통계량"
   ]
  },
  {
   "cell_type": "code",
   "execution_count": 83,
   "id": "2569eb17",
   "metadata": {},
   "outputs": [
    {
     "name": "stdout",
     "output_type": "stream",
     "text": [
      "년도 입력 : 2021\n"
     ]
    },
    {
     "data": {
      "text/plain": [
       "count    1140.000000\n",
       "mean      106.432632\n",
       "std       101.368726\n",
       "min         0.000000\n",
       "25%        35.275000\n",
       "50%        84.150000\n",
       "75%       143.125000\n",
       "max       692.400000\n",
       "Name: 강수량(mm), dtype: float64"
      ]
     },
     "execution_count": 83,
     "metadata": {},
     "output_type": "execute_result"
    }
   ],
   "source": [
    "year_y = int(input('년도 입력 : '))\n",
    "All.loc[All['일시'].dt.year==year_y]['강수량(mm)'].describe()"
   ]
  },
  {
   "cell_type": "markdown",
   "id": "fc610be0",
   "metadata": {},
   "source": [
    "# 년도별 데이터(상위 30)"
   ]
  },
  {
   "cell_type": "code",
   "execution_count": 84,
   "id": "2b487d0a",
   "metadata": {},
   "outputs": [],
   "source": [
    "All_Y_Max = All.groupby('일시',as_index = False)['강수량(mm)'].max().sort_values(by = '강수량(mm)',ascending = False).head(30)"
   ]
  },
  {
   "cell_type": "code",
   "execution_count": 86,
   "id": "8fe0ce95",
   "metadata": {
    "scrolled": false
   },
   "outputs": [
    {
     "data": {
      "image/png": "[encoded data removed]",
      "text/plain": [
       "<Figure size 900x600 with 1 Axes>"
      ]
     },
     "metadata": {
      "needs_background": "light"
     },
     "output_type": "display_data"
    }
   ],
   "source": [
    "plt.rc('font', family = 'AppleGothic') # 그래프 글꼴\n",
    "plt.figure(dpi = 150) # 그래프 크기\n",
    "plt.plot(range(30),All_Y_Max['강수량(mm)'])\n",
    "plt.title('년도별 강수량(상위30)')\n",
    "plt.xticks(range(30),All_Y_Max['일시'].dt.year,rotation = 90)\n",
    "plt.show()"
   ]
  },
  {
   "cell_type": "markdown",
   "id": "79a16dc3",
   "metadata": {},
   "source": [
    "# 년도별 데이터(하위 30)"
   ]
  },
  {
   "cell_type": "code",
   "execution_count": 87,
   "id": "9dd893e1",
   "metadata": {},
   "outputs": [],
   "source": [
    "All_Y_Min = All.groupby('일시',as_index = False)['강수량(mm)'].max().sort_values(by = '강수량(mm)',ascending = True).head(30)"
   ]
  },
  {
   "cell_type": "code",
   "execution_count": 88,
   "id": "b8a255de",
   "metadata": {},
   "outputs": [
    {
     "data": {
      "image/png": "[encoded data removed]",
      "text/plain": [
       "<Figure size 1200x800 with 1 Axes>"
      ]
     },
     "metadata": {
      "needs_background": "light"
     },
     "output_type": "display_data"
    }
   ],
   "source": [
    "plt.rc('font', family = 'AppleGothic') # 그래프 글꼴\n",
    "plt.figure(dpi = 200) # 그래프 크기\n",
    "plt.plot(range(30),All_Y_Min['강수량(mm)'])\n",
    "plt.title('년도별 강수량(하위30)')\n",
    "plt.xticks(range(30),All_Y_Min['일시'].dt.year,rotation = 90)\n",
    "plt.show()"
   ]
  },
  {
   "cell_type": "markdown",
   "id": "4de4b547",
   "metadata": {},
   "source": [
    "## => 2006년 7월에 가장 많은 비가 내렸고 1969년 10월에 가장 비가 내리지 않았다."
   ]
  },
  {
   "cell_type": "markdown",
   "id": "4139d35f",
   "metadata": {},
   "source": [
    "---\n",
    "# 지역 검색"
   ]
  },
  {
   "cell_type": "markdown",
   "id": "1c90548c",
   "metadata": {},
   "source": [
    "## 입력한 년도 년도별 강수량 평균"
   ]
  },
  {
   "cell_type": "code",
   "execution_count": 90,
   "id": "56977150",
   "metadata": {},
   "outputs": [
    {
     "name": "stdout",
     "output_type": "stream",
     "text": [
      "지역 입력(시군구): 밀양\n"
     ]
    }
   ],
   "source": [
    "Point = input('지역 입력(시군구): ')\n",
    "All_P = All.loc[(All['지점명'] == Point)]"
   ]
  },
  {
   "cell_type": "code",
   "execution_count": 91,
   "id": "66fcb74f",
   "metadata": {},
   "outputs": [
    {
     "data": {
      "text/plain": [
       "<pandas.core.groupby.generic.SeriesGroupBy object at 0x7ff6c1d72ca0>"
      ]
     },
     "execution_count": 91,
     "metadata": {},
     "output_type": "execute_result"
    }
   ],
   "source": [
    "All_P_G = All_P.groupby(All_P['일시'].dt.year)['강수량(mm)']\n",
    "All_P_G"
   ]
  },
  {
   "cell_type": "markdown",
   "id": "e860ed55",
   "metadata": {},
   "source": [
    "## 입력한 데이터(지역) 년도별 그래프"
   ]
  },
  {
   "cell_type": "code",
   "execution_count": 92,
   "id": "7356ef0a",
   "metadata": {},
   "outputs": [
    {
     "data": {
      "image/png": "[encoded data removed]",
      "text/plain": [
       "<Figure size 600x400 with 1 Axes>"
      ]
     },
     "metadata": {
      "needs_background": "light"
     },
     "output_type": "display_data"
    }
   ],
   "source": [
    "plt.rc('font',family = 'AppleGothic')\n",
    "plt.figure(dpi = 100)\n",
    "plt.title(Point+\"지역 년도별 강수량 평균\")\n",
    "plt.plot(All_P_G.mean())\n",
    "plt.show()"
   ]
  },
  {
   "cell_type": "markdown",
   "id": "72eb28e6",
   "metadata": {},
   "source": [
    "---\n",
    "# 지역, 년도 검색"
   ]
  },
  {
   "cell_type": "markdown",
   "id": "d427e34a",
   "metadata": {},
   "source": [
    "## 입력한 년도, 월별 강수량 평균"
   ]
  },
  {
   "cell_type": "markdown",
   "id": "b4ded513",
   "metadata": {},
   "source": [
    "### 년도만"
   ]
  },
  {
   "cell_type": "code",
   "execution_count": 93,
   "id": "ad0ed833",
   "metadata": {},
   "outputs": [
    {
     "name": "stdout",
     "output_type": "stream",
     "text": [
      "지역 입력(시군구): 밀양\n",
      "날짜 입력 : 2021\n"
     ]
    },
    {
     "data": {
      "text/html": [
       "<div>\n",
       "<style scoped>\n",
       "    .dataframe tbody tr th:only-of-type {\n",
       "        vertical-align: middle;\n",
       "    }\n",
       "\n",
       "    .dataframe tbody tr th {\n",
       "        vertical-align: top;\n",
       "    }\n",
       "\n",
       "    .dataframe thead th {\n",
       "        text-align: right;\n",
       "    }\n",
       "</style>\n",
       "<table border=\"1\" class=\"dataframe\">\n",
       "  <thead>\n",
       "    <tr style=\"text-align: right;\">\n",
       "      <th></th>\n",
       "      <th>지점번호</th>\n",
       "      <th>지점명</th>\n",
       "      <th>일시</th>\n",
       "      <th>강수량(mm)</th>\n",
       "      <th>일최다강수량(mm)</th>\n",
       "      <th>일최다강수량일자</th>\n",
       "      <th>1시간최다강수량(mm)</th>\n",
       "      <th>1시간최다강수량일자</th>\n",
       "      <th>Month</th>\n",
       "      <th>Season</th>\n",
       "    </tr>\n",
       "  </thead>\n",
       "  <tbody>\n",
       "    <tr>\n",
       "      <th>47559</th>\n",
       "      <td>288</td>\n",
       "      <td>밀양</td>\n",
       "      <td>2021-01-01</td>\n",
       "      <td>16.6</td>\n",
       "      <td>14.3</td>\n",
       "      <td>2021-01-26</td>\n",
       "      <td>0.0</td>\n",
       "      <td>NaT</td>\n",
       "      <td>1</td>\n",
       "      <td>4</td>\n",
       "    </tr>\n",
       "    <tr>\n",
       "      <th>47560</th>\n",
       "      <td>288</td>\n",
       "      <td>밀양</td>\n",
       "      <td>2021-02-01</td>\n",
       "      <td>23.1</td>\n",
       "      <td>14.7</td>\n",
       "      <td>2021-02-01</td>\n",
       "      <td>0.0</td>\n",
       "      <td>NaT</td>\n",
       "      <td>2</td>\n",
       "      <td>4</td>\n",
       "    </tr>\n",
       "    <tr>\n",
       "      <th>47561</th>\n",
       "      <td>288</td>\n",
       "      <td>밀양</td>\n",
       "      <td>2021-03-01</td>\n",
       "      <td>134.3</td>\n",
       "      <td>46.6</td>\n",
       "      <td>2021-03-01</td>\n",
       "      <td>0.0</td>\n",
       "      <td>NaT</td>\n",
       "      <td>3</td>\n",
       "      <td>1</td>\n",
       "    </tr>\n",
       "    <tr>\n",
       "      <th>47562</th>\n",
       "      <td>288</td>\n",
       "      <td>밀양</td>\n",
       "      <td>2021-04-01</td>\n",
       "      <td>66.7</td>\n",
       "      <td>28.2</td>\n",
       "      <td>2021-04-03</td>\n",
       "      <td>10.6</td>\n",
       "      <td>2021-04-04</td>\n",
       "      <td>4</td>\n",
       "      <td>1</td>\n",
       "    </tr>\n",
       "    <tr>\n",
       "      <th>47563</th>\n",
       "      <td>288</td>\n",
       "      <td>밀양</td>\n",
       "      <td>2021-05-01</td>\n",
       "      <td>107.9</td>\n",
       "      <td>28.5</td>\n",
       "      <td>2021-05-16</td>\n",
       "      <td>17.5</td>\n",
       "      <td>2021-05-28</td>\n",
       "      <td>5</td>\n",
       "      <td>1</td>\n",
       "    </tr>\n",
       "    <tr>\n",
       "      <th>47564</th>\n",
       "      <td>288</td>\n",
       "      <td>밀양</td>\n",
       "      <td>2021-06-01</td>\n",
       "      <td>68.9</td>\n",
       "      <td>24.3</td>\n",
       "      <td>2021-06-11</td>\n",
       "      <td>11.8</td>\n",
       "      <td>2021-06-23</td>\n",
       "      <td>6</td>\n",
       "      <td>2</td>\n",
       "    </tr>\n",
       "    <tr>\n",
       "      <th>47565</th>\n",
       "      <td>288</td>\n",
       "      <td>밀양</td>\n",
       "      <td>2021-07-01</td>\n",
       "      <td>308.2</td>\n",
       "      <td>87.9</td>\n",
       "      <td>2021-07-06</td>\n",
       "      <td>23.0</td>\n",
       "      <td>2021-07-07</td>\n",
       "      <td>7</td>\n",
       "      <td>2</td>\n",
       "    </tr>\n",
       "    <tr>\n",
       "      <th>47566</th>\n",
       "      <td>288</td>\n",
       "      <td>밀양</td>\n",
       "      <td>2021-08-01</td>\n",
       "      <td>302.3</td>\n",
       "      <td>121.6</td>\n",
       "      <td>2021-08-21</td>\n",
       "      <td>32.0</td>\n",
       "      <td>2021-08-21</td>\n",
       "      <td>8</td>\n",
       "      <td>2</td>\n",
       "    </tr>\n",
       "    <tr>\n",
       "      <th>47567</th>\n",
       "      <td>288</td>\n",
       "      <td>밀양</td>\n",
       "      <td>2021-09-01</td>\n",
       "      <td>60.9</td>\n",
       "      <td>19.1</td>\n",
       "      <td>2021-09-29</td>\n",
       "      <td>9.4</td>\n",
       "      <td>2021-09-29</td>\n",
       "      <td>9</td>\n",
       "      <td>3</td>\n",
       "    </tr>\n",
       "    <tr>\n",
       "      <th>47568</th>\n",
       "      <td>288</td>\n",
       "      <td>밀양</td>\n",
       "      <td>2021-10-01</td>\n",
       "      <td>61.2</td>\n",
       "      <td>40.7</td>\n",
       "      <td>2021-10-11</td>\n",
       "      <td>7.3</td>\n",
       "      <td>2021-10-11</td>\n",
       "      <td>10</td>\n",
       "      <td>3</td>\n",
       "    </tr>\n",
       "    <tr>\n",
       "      <th>47569</th>\n",
       "      <td>288</td>\n",
       "      <td>밀양</td>\n",
       "      <td>2021-11-01</td>\n",
       "      <td>49.4</td>\n",
       "      <td>29.0</td>\n",
       "      <td>2021-11-30</td>\n",
       "      <td>0.0</td>\n",
       "      <td>NaT</td>\n",
       "      <td>11</td>\n",
       "      <td>3</td>\n",
       "    </tr>\n",
       "    <tr>\n",
       "      <th>47570</th>\n",
       "      <td>288</td>\n",
       "      <td>밀양</td>\n",
       "      <td>2021-12-01</td>\n",
       "      <td>3.0</td>\n",
       "      <td>3.0</td>\n",
       "      <td>2021-12-16</td>\n",
       "      <td>0.0</td>\n",
       "      <td>NaT</td>\n",
       "      <td>12</td>\n",
       "      <td>4</td>\n",
       "    </tr>\n",
       "  </tbody>\n",
       "</table>\n",
       "</div>"
      ],
      "text/plain": [
       "          지점번호 지점명         일시  강수량(mm)  일최다강수량(mm)   일최다강수량일자  1시간최다강수량(mm)  \\\n",
       "47559      288  밀양 2021-01-01     16.6        14.3 2021-01-26           0.0   \n",
       "47560      288  밀양 2021-02-01     23.1        14.7 2021-02-01           0.0   \n",
       "47561      288  밀양 2021-03-01    134.3        46.6 2021-03-01           0.0   \n",
       "47562      288  밀양 2021-04-01     66.7        28.2 2021-04-03          10.6   \n",
       "47563      288  밀양 2021-05-01    107.9        28.5 2021-05-16          17.5   \n",
       "47564      288  밀양 2021-06-01     68.9        24.3 2021-06-11          11.8   \n",
       "47565      288  밀양 2021-07-01    308.2        87.9 2021-07-06          23.0   \n",
       "47566      288  밀양 2021-08-01    302.3       121.6 2021-08-21          32.0   \n",
       "47567      288  밀양 2021-09-01     60.9        19.1 2021-09-29           9.4   \n",
       "47568      288  밀양 2021-10-01     61.2        40.7 2021-10-11           7.3   \n",
       "47569      288  밀양 2021-11-01     49.4        29.0 2021-11-30           0.0   \n",
       "47570      288  밀양 2021-12-01      3.0         3.0 2021-12-16           0.0   \n",
       "\n",
       "      1시간최다강수량일자  Month  Season  \n",
       "47559        NaT      1       4  \n",
       "47560        NaT      2       4  \n",
       "47561        NaT      3       1  \n",
       "47562 2021-04-04      4       1  \n",
       "47563 2021-05-28      5       1  \n",
       "47564 2021-06-23      6       2  \n",
       "47565 2021-07-07      7       2  \n",
       "47566 2021-08-21      8       2  \n",
       "47567 2021-09-29      9       3  \n",
       "47568 2021-10-11     10       3  \n",
       "47569        NaT     11       3  \n",
       "47570        NaT     12       4  "
      ]
     },
     "execution_count": 93,
     "metadata": {},
     "output_type": "execute_result"
    }
   ],
   "source": [
    "# All_P = All.groupby('지점명',as_index = False)['강수량(mm)']\n",
    "# while(True):\n",
    "#     A = input('지역 입력(시군구): ')\n",
    "#     if (A in All['지점명']) == True :\n",
    "#         area = A\n",
    "#         break\n",
    "#     else:\n",
    "#         print('error')\n",
    "Point = input('지역 입력(시군구): ')\n",
    "day_y = int(input('날짜 입력 : '))\n",
    "All_P_Y = All.loc[(All['지점명'] == Point) & (All['일시'].dt.year == day_y)]\n",
    "All_P_Y"
   ]
  },
  {
   "cell_type": "code",
   "execution_count": 94,
   "id": "8a857292",
   "metadata": {
    "scrolled": true
   },
   "outputs": [
    {
     "data": {
      "text/plain": [
       "Int64Index([1, 2, 3, 4, 5, 6, 7, 8, 9, 10, 11, 12], dtype='int64', name='일시')"
      ]
     },
     "execution_count": 94,
     "metadata": {},
     "output_type": "execute_result"
    }
   ],
   "source": [
    "All_P_Y_G = All_P_Y.groupby(All_P_Y['일시'].dt.month)['강수량(mm)'].mean()\n",
    "All_P_Y_G.index"
   ]
  },
  {
   "cell_type": "markdown",
   "id": "6060c40a",
   "metadata": {},
   "source": [
    "### 입력한 데이터( 지역, 년도) 그래프\n"
   ]
  },
  {
   "cell_type": "code",
   "execution_count": 95,
   "id": "09c87338",
   "metadata": {},
   "outputs": [
    {
     "data": {
      "image/png": "[encoded data removed]",
      "text/plain": [
       "<Figure size 600x400 with 1 Axes>"
      ]
     },
     "metadata": {
      "needs_background": "light"
     },
     "output_type": "display_data"
    }
   ],
   "source": [
    "plt.rc('font',family = 'AppleGothic')\n",
    "plt.figure(dpi = 100)\n",
    "plt.title(Point+str(day_y)+\"년도 월별 강수량 평균\")\n",
    "plt.plot(All_P_Y_G)\n",
    "plt.show()"
   ]
  },
  {
   "cell_type": "markdown",
   "id": "e70fff56",
   "metadata": {},
   "source": [
    "---\n",
    "## 강수량 비교(지점, 년 입력) -> 월별 강수량 비교"
   ]
  },
  {
   "cell_type": "code",
   "execution_count": 96,
   "id": "4040d2a2",
   "metadata": {},
   "outputs": [
    {
     "name": "stdout",
     "output_type": "stream",
     "text": [
      "지역 입력(시군구): 밀양\n"
     ]
    },
    {
     "data": {
      "text/html": [
       "<div>\n",
       "<style scoped>\n",
       "    .dataframe tbody tr th:only-of-type {\n",
       "        vertical-align: middle;\n",
       "    }\n",
       "\n",
       "    .dataframe tbody tr th {\n",
       "        vertical-align: top;\n",
       "    }\n",
       "\n",
       "    .dataframe thead th {\n",
       "        text-align: right;\n",
       "    }\n",
       "</style>\n",
       "<table border=\"1\" class=\"dataframe\">\n",
       "  <thead>\n",
       "    <tr style=\"text-align: right;\">\n",
       "      <th></th>\n",
       "      <th>지점번호</th>\n",
       "      <th>지점명</th>\n",
       "      <th>일시</th>\n",
       "      <th>강수량(mm)</th>\n",
       "      <th>일최다강수량(mm)</th>\n",
       "      <th>일최다강수량일자</th>\n",
       "      <th>1시간최다강수량(mm)</th>\n",
       "      <th>1시간최다강수량일자</th>\n",
       "      <th>Month</th>\n",
       "      <th>Season</th>\n",
       "    </tr>\n",
       "  </thead>\n",
       "  <tbody>\n",
       "    <tr>\n",
       "      <th>46982</th>\n",
       "      <td>288</td>\n",
       "      <td>밀양</td>\n",
       "      <td>1972-01-01</td>\n",
       "      <td>0.0</td>\n",
       "      <td>0.0</td>\n",
       "      <td>NaT</td>\n",
       "      <td>0.0</td>\n",
       "      <td>NaT</td>\n",
       "      <td>1</td>\n",
       "      <td>4</td>\n",
       "    </tr>\n",
       "    <tr>\n",
       "      <th>46983</th>\n",
       "      <td>288</td>\n",
       "      <td>밀양</td>\n",
       "      <td>1973-01-01</td>\n",
       "      <td>47.5</td>\n",
       "      <td>23.3</td>\n",
       "      <td>1973-01-24</td>\n",
       "      <td>4.0</td>\n",
       "      <td>1973-01-24</td>\n",
       "      <td>1</td>\n",
       "      <td>4</td>\n",
       "    </tr>\n",
       "    <tr>\n",
       "      <th>46984</th>\n",
       "      <td>288</td>\n",
       "      <td>밀양</td>\n",
       "      <td>1973-02-01</td>\n",
       "      <td>28.8</td>\n",
       "      <td>9.6</td>\n",
       "      <td>1973-02-22</td>\n",
       "      <td>2.5</td>\n",
       "      <td>1973-02-22</td>\n",
       "      <td>2</td>\n",
       "      <td>4</td>\n",
       "    </tr>\n",
       "    <tr>\n",
       "      <th>46985</th>\n",
       "      <td>288</td>\n",
       "      <td>밀양</td>\n",
       "      <td>1973-03-01</td>\n",
       "      <td>9.1</td>\n",
       "      <td>4.4</td>\n",
       "      <td>1973-03-09</td>\n",
       "      <td>1.5</td>\n",
       "      <td>1973-03-09</td>\n",
       "      <td>3</td>\n",
       "      <td>1</td>\n",
       "    </tr>\n",
       "    <tr>\n",
       "      <th>46986</th>\n",
       "      <td>288</td>\n",
       "      <td>밀양</td>\n",
       "      <td>1973-04-01</td>\n",
       "      <td>162.5</td>\n",
       "      <td>72.2</td>\n",
       "      <td>1973-04-24</td>\n",
       "      <td>19.0</td>\n",
       "      <td>1973-04-24</td>\n",
       "      <td>4</td>\n",
       "      <td>1</td>\n",
       "    </tr>\n",
       "    <tr>\n",
       "      <th>...</th>\n",
       "      <td>...</td>\n",
       "      <td>...</td>\n",
       "      <td>...</td>\n",
       "      <td>...</td>\n",
       "      <td>...</td>\n",
       "      <td>...</td>\n",
       "      <td>...</td>\n",
       "      <td>...</td>\n",
       "      <td>...</td>\n",
       "      <td>...</td>\n",
       "    </tr>\n",
       "    <tr>\n",
       "      <th>47574</th>\n",
       "      <td>288</td>\n",
       "      <td>밀양</td>\n",
       "      <td>2022-04-01</td>\n",
       "      <td>59.6</td>\n",
       "      <td>37.5</td>\n",
       "      <td>2022-04-26</td>\n",
       "      <td>21.0</td>\n",
       "      <td>2022-04-26</td>\n",
       "      <td>4</td>\n",
       "      <td>1</td>\n",
       "    </tr>\n",
       "    <tr>\n",
       "      <th>47575</th>\n",
       "      <td>288</td>\n",
       "      <td>밀양</td>\n",
       "      <td>2022-05-01</td>\n",
       "      <td>3.3</td>\n",
       "      <td>3.3</td>\n",
       "      <td>2022-05-02</td>\n",
       "      <td>2.6</td>\n",
       "      <td>2022-05-02</td>\n",
       "      <td>5</td>\n",
       "      <td>1</td>\n",
       "    </tr>\n",
       "    <tr>\n",
       "      <th>47576</th>\n",
       "      <td>288</td>\n",
       "      <td>밀양</td>\n",
       "      <td>2022-06-01</td>\n",
       "      <td>232.8</td>\n",
       "      <td>125.6</td>\n",
       "      <td>2022-06-27</td>\n",
       "      <td>38.4</td>\n",
       "      <td>2022-06-27</td>\n",
       "      <td>6</td>\n",
       "      <td>2</td>\n",
       "    </tr>\n",
       "    <tr>\n",
       "      <th>47577</th>\n",
       "      <td>288</td>\n",
       "      <td>밀양</td>\n",
       "      <td>2022-07-01</td>\n",
       "      <td>112.8</td>\n",
       "      <td>68.3</td>\n",
       "      <td>2022-07-18</td>\n",
       "      <td>19.2</td>\n",
       "      <td>2022-07-18</td>\n",
       "      <td>7</td>\n",
       "      <td>2</td>\n",
       "    </tr>\n",
       "    <tr>\n",
       "      <th>47578</th>\n",
       "      <td>288</td>\n",
       "      <td>밀양</td>\n",
       "      <td>2022-08-01</td>\n",
       "      <td>31.0</td>\n",
       "      <td>30.9</td>\n",
       "      <td>2022-08-02</td>\n",
       "      <td>19.8</td>\n",
       "      <td>2022-08-02</td>\n",
       "      <td>8</td>\n",
       "      <td>2</td>\n",
       "    </tr>\n",
       "  </tbody>\n",
       "</table>\n",
       "<p>597 rows × 10 columns</p>\n",
       "</div>"
      ],
      "text/plain": [
       "          지점번호 지점명         일시  강수량(mm)  일최다강수량(mm)   일최다강수량일자  1시간최다강수량(mm)  \\\n",
       "46982      288  밀양 1972-01-01      0.0         0.0        NaT           0.0   \n",
       "46983      288  밀양 1973-01-01     47.5        23.3 1973-01-24           4.0   \n",
       "46984      288  밀양 1973-02-01     28.8         9.6 1973-02-22           2.5   \n",
       "46985      288  밀양 1973-03-01      9.1         4.4 1973-03-09           1.5   \n",
       "46986      288  밀양 1973-04-01    162.5        72.2 1973-04-24          19.0   \n",
       "...        ...  ..        ...      ...         ...        ...           ...   \n",
       "47574      288  밀양 2022-04-01     59.6        37.5 2022-04-26          21.0   \n",
       "47575      288  밀양 2022-05-01      3.3         3.3 2022-05-02           2.6   \n",
       "47576      288  밀양 2022-06-01    232.8       125.6 2022-06-27          38.4   \n",
       "47577      288  밀양 2022-07-01    112.8        68.3 2022-07-18          19.2   \n",
       "47578      288  밀양 2022-08-01     31.0        30.9 2022-08-02          19.8   \n",
       "\n",
       "      1시간최다강수량일자  Month  Season  \n",
       "46982        NaT      1       4  \n",
       "46983 1973-01-24      1       4  \n",
       "46984 1973-02-22      2       4  \n",
       "46985 1973-03-09      3       1  \n",
       "46986 1973-04-24      4       1  \n",
       "...          ...    ...     ...  \n",
       "47574 2022-04-26      4       1  \n",
       "47575 2022-05-02      5       1  \n",
       "47576 2022-06-27      6       2  \n",
       "47577 2022-07-18      7       2  \n",
       "47578 2022-08-02      8       2  \n",
       "\n",
       "[597 rows x 10 columns]"
      ]
     },
     "execution_count": 96,
     "metadata": {},
     "output_type": "execute_result"
    }
   ],
   "source": [
    "area1 = input('지역 입력(시군구): ')\n",
    "All_A1 = All.loc[All['지점명']==area1]\n",
    "All_A1"
   ]
  },
  {
   "cell_type": "code",
   "execution_count": 97,
   "id": "f868612d",
   "metadata": {
    "scrolled": true
   },
   "outputs": [
    {
     "name": "stdout",
     "output_type": "stream",
     "text": [
      "지역 입력(시군구): 밀양\n",
      "날짜입력(년도) : 2021\n",
      "          지점번호 지점명         일시  강수량(mm)  일최다강수량(mm)   일최다강수량일자  1시간최다강수량(mm)  \\\n",
      "47559      288  밀양 2021-01-01     16.6        14.3 2021-01-26           0.0   \n",
      "47560      288  밀양 2021-02-01     23.1        14.7 2021-02-01           0.0   \n",
      "47561      288  밀양 2021-03-01    134.3        46.6 2021-03-01           0.0   \n",
      "47562      288  밀양 2021-04-01     66.7        28.2 2021-04-03          10.6   \n",
      "47563      288  밀양 2021-05-01    107.9        28.5 2021-05-16          17.5   \n",
      "47564      288  밀양 2021-06-01     68.9        24.3 2021-06-11          11.8   \n",
      "47565      288  밀양 2021-07-01    308.2        87.9 2021-07-06          23.0   \n",
      "47566      288  밀양 2021-08-01    302.3       121.6 2021-08-21          32.0   \n",
      "47567      288  밀양 2021-09-01     60.9        19.1 2021-09-29           9.4   \n",
      "47568      288  밀양 2021-10-01     61.2        40.7 2021-10-11           7.3   \n",
      "47569      288  밀양 2021-11-01     49.4        29.0 2021-11-30           0.0   \n",
      "47570      288  밀양 2021-12-01      3.0         3.0 2021-12-16           0.0   \n",
      "\n",
      "      1시간최다강수량일자  Month  Season  \n",
      "47559        NaT      1       4  \n",
      "47560        NaT      2       4  \n",
      "47561        NaT      3       1  \n",
      "47562 2021-04-04      4       1  \n",
      "47563 2021-05-28      5       1  \n",
      "47564 2021-06-23      6       2  \n",
      "47565 2021-07-07      7       2  \n",
      "47566 2021-08-21      8       2  \n",
      "47567 2021-09-29      9       3  \n",
      "47568 2021-10-11     10       3  \n",
      "47569        NaT     11       3  \n",
      "47570        NaT     12       4  \n"
     ]
    }
   ],
   "source": [
    "Point1 = input('지역 입력(시군구): ')\n",
    "day_y1 = int(input('날짜입력(년도) : '))\n",
    "All_P_Y1 = All.loc[(All['지점명'] == Point1) & (All['일시'].dt.year == day_y1)]\n",
    "print(All_P_Y1)"
   ]
  },
  {
   "cell_type": "code",
   "execution_count": 98,
   "id": "ef26e8b0",
   "metadata": {
    "scrolled": true
   },
   "outputs": [
    {
     "data": {
      "text/plain": [
       "일시\n",
       "1      16.6\n",
       "2      23.1\n",
       "3     134.3\n",
       "4      66.7\n",
       "5     107.9\n",
       "6      68.9\n",
       "7     308.2\n",
       "8     302.3\n",
       "9      60.9\n",
       "10     61.2\n",
       "11     49.4\n",
       "12      3.0\n",
       "Name: 강수량(mm), dtype: float64"
      ]
     },
     "execution_count": 98,
     "metadata": {},
     "output_type": "execute_result"
    }
   ],
   "source": [
    "All_P_Y1_G = All_P_Y1.groupby(All_P_Y1['일시'].dt.month)['강수량(mm)'].mean()\n",
    "I1 = All_P_Y1_G.index\n",
    "All_P_Y1_G"
   ]
  },
  {
   "cell_type": "code",
   "execution_count": 99,
   "id": "a37ab1aa",
   "metadata": {},
   "outputs": [
    {
     "name": "stdout",
     "output_type": "stream",
     "text": [
      "지역 입력(시군구): 밀양\n",
      "비교할 날짜입력(년도) : 2020\n",
      "          지점번호 지점명         일시  강수량(mm)  일최다강수량(mm)   일최다강수량일자  1시간최다강수량(mm)  \\\n",
      "47547      288  밀양 2020-01-01     78.2        34.1 2020-01-07           0.0   \n",
      "47548      288  밀양 2020-02-01     61.6        40.9 2020-02-25           0.0   \n",
      "47549      288  밀양 2020-03-01     36.1        12.9 2020-03-26           0.0   \n",
      "47550      288  밀양 2020-04-01     44.4        21.7 2020-04-19           5.3   \n",
      "47551      288  밀양 2020-05-01     50.3        25.5 2020-05-09           4.6   \n",
      "47552      288  밀양 2020-06-01    204.7        69.5 2020-06-29          20.5   \n",
      "47553      288  밀양 2020-07-01    403.6        75.4 2020-07-13          23.5   \n",
      "47554      288  밀양 2020-08-01    197.2        92.7 2020-08-08          21.7   \n",
      "47555      288  밀양 2020-09-01    236.0        78.1 2020-09-02          33.0   \n",
      "47556      288  밀양 2020-10-01     13.6        10.4 2020-10-21           2.5   \n",
      "47557      288  밀양 2020-11-01     68.0        62.7 2020-11-19           0.0   \n",
      "47558      288  밀양 2020-12-01      5.1         3.4 2020-12-27           0.0   \n",
      "\n",
      "      1시간최다강수량일자  Month  Season  \n",
      "47547        NaT      1       4  \n",
      "47548        NaT      2       4  \n",
      "47549        NaT      3       1  \n",
      "47550 2020-04-17      4       1  \n",
      "47551 2020-05-09      5       1  \n",
      "47552 2020-06-11      6       2  \n",
      "47553 2020-07-30      7       2  \n",
      "47554 2020-08-08      8       2  \n",
      "47555 2020-09-02      9       3  \n",
      "47556 2020-10-21     10       3  \n",
      "47557        NaT     11       3  \n",
      "47558        NaT     12       4  \n"
     ]
    }
   ],
   "source": [
    "Point2 = input('지역 입력(시군구): ')\n",
    "day_y2 = int(input('비교할 날짜입력(년도) : '))\n",
    "All_P_Y2 = All.loc[(All['지점명'] == Point2) & (All['일시'].dt.year == day_y2)]\n",
    "print(All_P_Y2)"
   ]
  },
  {
   "cell_type": "code",
   "execution_count": 100,
   "id": "c135ddb9",
   "metadata": {},
   "outputs": [
    {
     "data": {
      "text/plain": [
       "일시\n",
       "1      78.2\n",
       "2      61.6\n",
       "3      36.1\n",
       "4      44.4\n",
       "5      50.3\n",
       "6     204.7\n",
       "7     403.6\n",
       "8     197.2\n",
       "9     236.0\n",
       "10     13.6\n",
       "11     68.0\n",
       "12      5.1\n",
       "Name: 강수량(mm), dtype: float64"
      ]
     },
     "execution_count": 100,
     "metadata": {},
     "output_type": "execute_result"
    }
   ],
   "source": [
    "All_P_Y2_G = All_P_Y2.groupby(All_P_Y2['일시'].dt.month)['강수량(mm)'].mean()\n",
    "I2 = All_P_Y2_G.index\n",
    "All_P_Y2_G "
   ]
  },
  {
   "cell_type": "code",
   "execution_count": 101,
   "id": "7765e208",
   "metadata": {},
   "outputs": [
    {
     "data": {
      "image/png": "[encoded data removed]",
      "text/plain": [
       "<Figure size 1200x800 with 1 Axes>"
      ]
     },
     "metadata": {
      "needs_background": "light"
     },
     "output_type": "display_data"
    }
   ],
   "source": [
    "plt.rc('font', family='AppleGothic')\n",
    "plt.figure(dpi = 200)\n",
    "plt.title(str(day_y1)+\"년 \"+Point1+\"지역과 \"+str(day_y2)+\"년 \"+Point2+\"지역\"+\" 비교 그래프\")\n",
    "plt.plot(I1,All_P_Y1_G,label = str(day_y1)+\"년 \"+Point1)\n",
    "plt.plot(I2,All_P_Y2_G,label = str(day_y2)+\"년 \"+Point2)\n",
    "plt.legend()\n",
    "plt.show()"
   ]
  },
  {
   "cell_type": "markdown",
   "id": "b3e25ec2",
   "metadata": {},
   "source": [
    "----"
   ]
  },
  {
   "cell_type": "markdown",
   "id": "d68097d3",
   "metadata": {},
   "source": [
    "# 계절별 강수량 평균 파이차트"
   ]
  },
  {
   "cell_type": "code",
   "execution_count": 53,
   "id": "1a02ed27",
   "metadata": {
    "scrolled": true
   },
   "outputs": [
    {
     "data": {
      "text/html": [
       "<div>\n",
       "<style scoped>\n",
       "    .dataframe tbody tr th:only-of-type {\n",
       "        vertical-align: middle;\n",
       "    }\n",
       "\n",
       "    .dataframe tbody tr th {\n",
       "        vertical-align: top;\n",
       "    }\n",
       "\n",
       "    .dataframe thead th {\n",
       "        text-align: right;\n",
       "    }\n",
       "</style>\n",
       "<table border=\"1\" class=\"dataframe\">\n",
       "  <thead>\n",
       "    <tr style=\"text-align: right;\">\n",
       "      <th></th>\n",
       "      <th>지점번호</th>\n",
       "      <th>지점명</th>\n",
       "      <th>일시</th>\n",
       "      <th>강수량(mm)</th>\n",
       "      <th>일최다강수량(mm)</th>\n",
       "      <th>일최다강수량일자</th>\n",
       "      <th>1시간최다강수량(mm)</th>\n",
       "      <th>1시간최다강수량일자</th>\n",
       "    </tr>\n",
       "  </thead>\n",
       "  <tbody>\n",
       "    <tr>\n",
       "      <th>0</th>\n",
       "      <td>90</td>\n",
       "      <td>속초</td>\n",
       "      <td>1968-01-01</td>\n",
       "      <td>0.0</td>\n",
       "      <td>0.0</td>\n",
       "      <td>1968-01-24</td>\n",
       "      <td>0.0</td>\n",
       "      <td>1968-01-02</td>\n",
       "    </tr>\n",
       "    <tr>\n",
       "      <th>1</th>\n",
       "      <td>90</td>\n",
       "      <td>속초</td>\n",
       "      <td>1968-02-01</td>\n",
       "      <td>3.3</td>\n",
       "      <td>2.0</td>\n",
       "      <td>1968-02-29</td>\n",
       "      <td>0.0</td>\n",
       "      <td>1968-02-10</td>\n",
       "    </tr>\n",
       "    <tr>\n",
       "      <th>2</th>\n",
       "      <td>90</td>\n",
       "      <td>속초</td>\n",
       "      <td>1968-03-01</td>\n",
       "      <td>8.8</td>\n",
       "      <td>3.3</td>\n",
       "      <td>1968-03-24</td>\n",
       "      <td>0.0</td>\n",
       "      <td>NaT</td>\n",
       "    </tr>\n",
       "    <tr>\n",
       "      <th>3</th>\n",
       "      <td>90</td>\n",
       "      <td>속초</td>\n",
       "      <td>1968-04-01</td>\n",
       "      <td>6.9</td>\n",
       "      <td>3.4</td>\n",
       "      <td>1968-04-08</td>\n",
       "      <td>1.4</td>\n",
       "      <td>1968-04-05</td>\n",
       "    </tr>\n",
       "    <tr>\n",
       "      <th>4</th>\n",
       "      <td>90</td>\n",
       "      <td>속초</td>\n",
       "      <td>1968-05-01</td>\n",
       "      <td>49.1</td>\n",
       "      <td>31.8</td>\n",
       "      <td>1968-05-18</td>\n",
       "      <td>5.7</td>\n",
       "      <td>1968-05-18</td>\n",
       "    </tr>\n",
       "    <tr>\n",
       "      <th>...</th>\n",
       "      <td>...</td>\n",
       "      <td>...</td>\n",
       "      <td>...</td>\n",
       "      <td>...</td>\n",
       "      <td>...</td>\n",
       "      <td>...</td>\n",
       "      <td>...</td>\n",
       "      <td>...</td>\n",
       "    </tr>\n",
       "    <tr>\n",
       "      <th>49396</th>\n",
       "      <td>295</td>\n",
       "      <td>남해</td>\n",
       "      <td>2022-04-01</td>\n",
       "      <td>142.1</td>\n",
       "      <td>72.8</td>\n",
       "      <td>2022-04-26</td>\n",
       "      <td>29.0</td>\n",
       "      <td>2022-04-26</td>\n",
       "    </tr>\n",
       "    <tr>\n",
       "      <th>49397</th>\n",
       "      <td>295</td>\n",
       "      <td>남해</td>\n",
       "      <td>2022-05-01</td>\n",
       "      <td>6.7</td>\n",
       "      <td>6.0</td>\n",
       "      <td>2022-05-21</td>\n",
       "      <td>6.0</td>\n",
       "      <td>2022-05-21</td>\n",
       "    </tr>\n",
       "    <tr>\n",
       "      <th>49398</th>\n",
       "      <td>295</td>\n",
       "      <td>남해</td>\n",
       "      <td>2022-06-01</td>\n",
       "      <td>137.1</td>\n",
       "      <td>47.7</td>\n",
       "      <td>2022-06-05</td>\n",
       "      <td>17.1</td>\n",
       "      <td>2022-06-24</td>\n",
       "    </tr>\n",
       "    <tr>\n",
       "      <th>49399</th>\n",
       "      <td>295</td>\n",
       "      <td>남해</td>\n",
       "      <td>2022-07-01</td>\n",
       "      <td>236.5</td>\n",
       "      <td>77.5</td>\n",
       "      <td>2022-07-18</td>\n",
       "      <td>31.4</td>\n",
       "      <td>2022-07-11</td>\n",
       "    </tr>\n",
       "    <tr>\n",
       "      <th>49400</th>\n",
       "      <td>295</td>\n",
       "      <td>남해</td>\n",
       "      <td>2022-08-01</td>\n",
       "      <td>59.9</td>\n",
       "      <td>29.5</td>\n",
       "      <td>2022-08-02</td>\n",
       "      <td>11.6</td>\n",
       "      <td>2022-08-02</td>\n",
       "    </tr>\n",
       "  </tbody>\n",
       "</table>\n",
       "<p>49401 rows × 8 columns</p>\n",
       "</div>"
      ],
      "text/plain": [
       "          지점번호 지점명         일시  강수량(mm)  일최다강수량(mm)   일최다강수량일자  1시간최다강수량(mm)  \\\n",
       "0           90  속초 1968-01-01      0.0         0.0 1968-01-24           0.0   \n",
       "1           90  속초 1968-02-01      3.3         2.0 1968-02-29           0.0   \n",
       "2           90  속초 1968-03-01      8.8         3.3 1968-03-24           0.0   \n",
       "3           90  속초 1968-04-01      6.9         3.4 1968-04-08           1.4   \n",
       "4           90  속초 1968-05-01     49.1        31.8 1968-05-18           5.7   \n",
       "...        ...  ..        ...      ...         ...        ...           ...   \n",
       "49396      295  남해 2022-04-01    142.1        72.8 2022-04-26          29.0   \n",
       "49397      295  남해 2022-05-01      6.7         6.0 2022-05-21           6.0   \n",
       "49398      295  남해 2022-06-01    137.1        47.7 2022-06-05          17.1   \n",
       "49399      295  남해 2022-07-01    236.5        77.5 2022-07-18          31.4   \n",
       "49400      295  남해 2022-08-01     59.9        29.5 2022-08-02          11.6   \n",
       "\n",
       "      1시간최다강수량일자  \n",
       "0     1968-01-02  \n",
       "1     1968-02-10  \n",
       "2            NaT  \n",
       "3     1968-04-05  \n",
       "4     1968-05-18  \n",
       "...          ...  \n",
       "49396 2022-04-26  \n",
       "49397 2022-05-21  \n",
       "49398 2022-06-24  \n",
       "49399 2022-07-11  \n",
       "49400 2022-08-02  \n",
       "\n",
       "[49401 rows x 8 columns]"
      ]
     },
     "execution_count": 53,
     "metadata": {},
     "output_type": "execute_result"
    }
   ],
   "source": [
    "All"
   ]
  },
  {
   "cell_type": "markdown",
   "id": "69e689f7",
   "metadata": {},
   "source": [
    "## 계절 변수 생성"
   ]
  },
  {
   "cell_type": "code",
   "execution_count": 102,
   "id": "452daced",
   "metadata": {},
   "outputs": [],
   "source": [
    "All['Month'] = All['일시'].dt.month"
   ]
  },
  {
   "cell_type": "code",
   "execution_count": 103,
   "id": "48ca5bb9",
   "metadata": {},
   "outputs": [
    {
     "data": {
      "text/plain": [
       "0        1\n",
       "1        2\n",
       "2        3\n",
       "3        4\n",
       "4        5\n",
       "        ..\n",
       "49396    4\n",
       "49397    5\n",
       "49398    6\n",
       "49399    7\n",
       "49400    8\n",
       "Name: Month, Length: 49401, dtype: int64"
      ]
     },
     "execution_count": 103,
     "metadata": {},
     "output_type": "execute_result"
    }
   ],
   "source": [
    "All['Month'] "
   ]
  },
  {
   "cell_type": "code",
   "execution_count": 104,
   "id": "af12dce7",
   "metadata": {},
   "outputs": [
    {
     "data": {
      "text/html": [
       "<div>\n",
       "<style scoped>\n",
       "    .dataframe tbody tr th:only-of-type {\n",
       "        vertical-align: middle;\n",
       "    }\n",
       "\n",
       "    .dataframe tbody tr th {\n",
       "        vertical-align: top;\n",
       "    }\n",
       "\n",
       "    .dataframe thead th {\n",
       "        text-align: right;\n",
       "    }\n",
       "</style>\n",
       "<table border=\"1\" class=\"dataframe\">\n",
       "  <thead>\n",
       "    <tr style=\"text-align: right;\">\n",
       "      <th></th>\n",
       "      <th>Month</th>\n",
       "      <th>Season</th>\n",
       "    </tr>\n",
       "  </thead>\n",
       "  <tbody>\n",
       "    <tr>\n",
       "      <th>0</th>\n",
       "      <td>1</td>\n",
       "      <td>4</td>\n",
       "    </tr>\n",
       "    <tr>\n",
       "      <th>1</th>\n",
       "      <td>2</td>\n",
       "      <td>4</td>\n",
       "    </tr>\n",
       "    <tr>\n",
       "      <th>2</th>\n",
       "      <td>3</td>\n",
       "      <td>1</td>\n",
       "    </tr>\n",
       "    <tr>\n",
       "      <th>3</th>\n",
       "      <td>4</td>\n",
       "      <td>1</td>\n",
       "    </tr>\n",
       "    <tr>\n",
       "      <th>4</th>\n",
       "      <td>5</td>\n",
       "      <td>1</td>\n",
       "    </tr>\n",
       "    <tr>\n",
       "      <th>5</th>\n",
       "      <td>6</td>\n",
       "      <td>2</td>\n",
       "    </tr>\n",
       "    <tr>\n",
       "      <th>6</th>\n",
       "      <td>7</td>\n",
       "      <td>2</td>\n",
       "    </tr>\n",
       "    <tr>\n",
       "      <th>7</th>\n",
       "      <td>8</td>\n",
       "      <td>2</td>\n",
       "    </tr>\n",
       "    <tr>\n",
       "      <th>8</th>\n",
       "      <td>9</td>\n",
       "      <td>3</td>\n",
       "    </tr>\n",
       "    <tr>\n",
       "      <th>9</th>\n",
       "      <td>10</td>\n",
       "      <td>3</td>\n",
       "    </tr>\n",
       "    <tr>\n",
       "      <th>10</th>\n",
       "      <td>11</td>\n",
       "      <td>3</td>\n",
       "    </tr>\n",
       "    <tr>\n",
       "      <th>11</th>\n",
       "      <td>12</td>\n",
       "      <td>4</td>\n",
       "    </tr>\n",
       "  </tbody>\n",
       "</table>\n",
       "</div>"
      ],
      "text/plain": [
       "    Month  Season\n",
       "0       1       4\n",
       "1       2       4\n",
       "2       3       1\n",
       "3       4       1\n",
       "4       5       1\n",
       "5       6       2\n",
       "6       7       2\n",
       "7       8       2\n",
       "8       9       3\n",
       "9      10       3\n",
       "10     11       3\n",
       "11     12       4"
      ]
     },
     "execution_count": 104,
     "metadata": {},
     "output_type": "execute_result"
    }
   ],
   "source": [
    "def get_category(month):\n",
    "    cat = ''\n",
    "    if  month <= 2: cat = 4\n",
    "    elif month <= 5: cat = 1\n",
    "    elif month <= 8: cat = 2\n",
    "    elif month <= 11: cat = 3\n",
    "    else : cat = 4\n",
    "    \n",
    "    return cat\n",
    "\n",
    "All['Season'] = All['Month'].apply(lambda x : get_category(x))\n",
    "All[['Month','Season']].head(12)"
   ]
  },
  {
   "cell_type": "code",
   "execution_count": 105,
   "id": "782d9966",
   "metadata": {
    "scrolled": true
   },
   "outputs": [
    {
     "name": "stdout",
     "output_type": "stream",
     "text": [
      "지역 입력(시군구) : 밀양\n",
      "날짜 입력 : 2021\n"
     ]
    },
    {
     "data": {
      "text/html": [
       "<div>\n",
       "<style scoped>\n",
       "    .dataframe tbody tr th:only-of-type {\n",
       "        vertical-align: middle;\n",
       "    }\n",
       "\n",
       "    .dataframe tbody tr th {\n",
       "        vertical-align: top;\n",
       "    }\n",
       "\n",
       "    .dataframe thead th {\n",
       "        text-align: right;\n",
       "    }\n",
       "</style>\n",
       "<table border=\"1\" class=\"dataframe\">\n",
       "  <thead>\n",
       "    <tr style=\"text-align: right;\">\n",
       "      <th></th>\n",
       "      <th>지점번호</th>\n",
       "      <th>지점명</th>\n",
       "      <th>일시</th>\n",
       "      <th>강수량(mm)</th>\n",
       "      <th>일최다강수량(mm)</th>\n",
       "      <th>일최다강수량일자</th>\n",
       "      <th>1시간최다강수량(mm)</th>\n",
       "      <th>1시간최다강수량일자</th>\n",
       "      <th>Month</th>\n",
       "      <th>Season</th>\n",
       "    </tr>\n",
       "  </thead>\n",
       "  <tbody>\n",
       "    <tr>\n",
       "      <th>47559</th>\n",
       "      <td>288</td>\n",
       "      <td>밀양</td>\n",
       "      <td>2021-01-01</td>\n",
       "      <td>16.6</td>\n",
       "      <td>14.3</td>\n",
       "      <td>2021-01-26</td>\n",
       "      <td>0.0</td>\n",
       "      <td>NaT</td>\n",
       "      <td>1</td>\n",
       "      <td>4</td>\n",
       "    </tr>\n",
       "    <tr>\n",
       "      <th>47560</th>\n",
       "      <td>288</td>\n",
       "      <td>밀양</td>\n",
       "      <td>2021-02-01</td>\n",
       "      <td>23.1</td>\n",
       "      <td>14.7</td>\n",
       "      <td>2021-02-01</td>\n",
       "      <td>0.0</td>\n",
       "      <td>NaT</td>\n",
       "      <td>2</td>\n",
       "      <td>4</td>\n",
       "    </tr>\n",
       "    <tr>\n",
       "      <th>47561</th>\n",
       "      <td>288</td>\n",
       "      <td>밀양</td>\n",
       "      <td>2021-03-01</td>\n",
       "      <td>134.3</td>\n",
       "      <td>46.6</td>\n",
       "      <td>2021-03-01</td>\n",
       "      <td>0.0</td>\n",
       "      <td>NaT</td>\n",
       "      <td>3</td>\n",
       "      <td>1</td>\n",
       "    </tr>\n",
       "    <tr>\n",
       "      <th>47562</th>\n",
       "      <td>288</td>\n",
       "      <td>밀양</td>\n",
       "      <td>2021-04-01</td>\n",
       "      <td>66.7</td>\n",
       "      <td>28.2</td>\n",
       "      <td>2021-04-03</td>\n",
       "      <td>10.6</td>\n",
       "      <td>2021-04-04</td>\n",
       "      <td>4</td>\n",
       "      <td>1</td>\n",
       "    </tr>\n",
       "    <tr>\n",
       "      <th>47563</th>\n",
       "      <td>288</td>\n",
       "      <td>밀양</td>\n",
       "      <td>2021-05-01</td>\n",
       "      <td>107.9</td>\n",
       "      <td>28.5</td>\n",
       "      <td>2021-05-16</td>\n",
       "      <td>17.5</td>\n",
       "      <td>2021-05-28</td>\n",
       "      <td>5</td>\n",
       "      <td>1</td>\n",
       "    </tr>\n",
       "    <tr>\n",
       "      <th>47564</th>\n",
       "      <td>288</td>\n",
       "      <td>밀양</td>\n",
       "      <td>2021-06-01</td>\n",
       "      <td>68.9</td>\n",
       "      <td>24.3</td>\n",
       "      <td>2021-06-11</td>\n",
       "      <td>11.8</td>\n",
       "      <td>2021-06-23</td>\n",
       "      <td>6</td>\n",
       "      <td>2</td>\n",
       "    </tr>\n",
       "    <tr>\n",
       "      <th>47565</th>\n",
       "      <td>288</td>\n",
       "      <td>밀양</td>\n",
       "      <td>2021-07-01</td>\n",
       "      <td>308.2</td>\n",
       "      <td>87.9</td>\n",
       "      <td>2021-07-06</td>\n",
       "      <td>23.0</td>\n",
       "      <td>2021-07-07</td>\n",
       "      <td>7</td>\n",
       "      <td>2</td>\n",
       "    </tr>\n",
       "    <tr>\n",
       "      <th>47566</th>\n",
       "      <td>288</td>\n",
       "      <td>밀양</td>\n",
       "      <td>2021-08-01</td>\n",
       "      <td>302.3</td>\n",
       "      <td>121.6</td>\n",
       "      <td>2021-08-21</td>\n",
       "      <td>32.0</td>\n",
       "      <td>2021-08-21</td>\n",
       "      <td>8</td>\n",
       "      <td>2</td>\n",
       "    </tr>\n",
       "    <tr>\n",
       "      <th>47567</th>\n",
       "      <td>288</td>\n",
       "      <td>밀양</td>\n",
       "      <td>2021-09-01</td>\n",
       "      <td>60.9</td>\n",
       "      <td>19.1</td>\n",
       "      <td>2021-09-29</td>\n",
       "      <td>9.4</td>\n",
       "      <td>2021-09-29</td>\n",
       "      <td>9</td>\n",
       "      <td>3</td>\n",
       "    </tr>\n",
       "    <tr>\n",
       "      <th>47568</th>\n",
       "      <td>288</td>\n",
       "      <td>밀양</td>\n",
       "      <td>2021-10-01</td>\n",
       "      <td>61.2</td>\n",
       "      <td>40.7</td>\n",
       "      <td>2021-10-11</td>\n",
       "      <td>7.3</td>\n",
       "      <td>2021-10-11</td>\n",
       "      <td>10</td>\n",
       "      <td>3</td>\n",
       "    </tr>\n",
       "    <tr>\n",
       "      <th>47569</th>\n",
       "      <td>288</td>\n",
       "      <td>밀양</td>\n",
       "      <td>2021-11-01</td>\n",
       "      <td>49.4</td>\n",
       "      <td>29.0</td>\n",
       "      <td>2021-11-30</td>\n",
       "      <td>0.0</td>\n",
       "      <td>NaT</td>\n",
       "      <td>11</td>\n",
       "      <td>3</td>\n",
       "    </tr>\n",
       "    <tr>\n",
       "      <th>47570</th>\n",
       "      <td>288</td>\n",
       "      <td>밀양</td>\n",
       "      <td>2021-12-01</td>\n",
       "      <td>3.0</td>\n",
       "      <td>3.0</td>\n",
       "      <td>2021-12-16</td>\n",
       "      <td>0.0</td>\n",
       "      <td>NaT</td>\n",
       "      <td>12</td>\n",
       "      <td>4</td>\n",
       "    </tr>\n",
       "  </tbody>\n",
       "</table>\n",
       "</div>"
      ],
      "text/plain": [
       "          지점번호 지점명         일시  강수량(mm)  일최다강수량(mm)   일최다강수량일자  1시간최다강수량(mm)  \\\n",
       "47559      288  밀양 2021-01-01     16.6        14.3 2021-01-26           0.0   \n",
       "47560      288  밀양 2021-02-01     23.1        14.7 2021-02-01           0.0   \n",
       "47561      288  밀양 2021-03-01    134.3        46.6 2021-03-01           0.0   \n",
       "47562      288  밀양 2021-04-01     66.7        28.2 2021-04-03          10.6   \n",
       "47563      288  밀양 2021-05-01    107.9        28.5 2021-05-16          17.5   \n",
       "47564      288  밀양 2021-06-01     68.9        24.3 2021-06-11          11.8   \n",
       "47565      288  밀양 2021-07-01    308.2        87.9 2021-07-06          23.0   \n",
       "47566      288  밀양 2021-08-01    302.3       121.6 2021-08-21          32.0   \n",
       "47567      288  밀양 2021-09-01     60.9        19.1 2021-09-29           9.4   \n",
       "47568      288  밀양 2021-10-01     61.2        40.7 2021-10-11           7.3   \n",
       "47569      288  밀양 2021-11-01     49.4        29.0 2021-11-30           0.0   \n",
       "47570      288  밀양 2021-12-01      3.0         3.0 2021-12-16           0.0   \n",
       "\n",
       "      1시간최다강수량일자  Month  Season  \n",
       "47559        NaT      1       4  \n",
       "47560        NaT      2       4  \n",
       "47561        NaT      3       1  \n",
       "47562 2021-04-04      4       1  \n",
       "47563 2021-05-28      5       1  \n",
       "47564 2021-06-23      6       2  \n",
       "47565 2021-07-07      7       2  \n",
       "47566 2021-08-21      8       2  \n",
       "47567 2021-09-29      9       3  \n",
       "47568 2021-10-11     10       3  \n",
       "47569        NaT     11       3  \n",
       "47570        NaT     12       4  "
      ]
     },
     "execution_count": 105,
     "metadata": {},
     "output_type": "execute_result"
    }
   ],
   "source": [
    "Point = input('지역 입력(시군구) : ')\n",
    "day_y = int(input('날짜 입력 : '))\n",
    "All_P_Y = All.loc[(All['지점명'] == Point) & (All['일시'].dt.year == day_y)]\n",
    "All_P_Y"
   ]
  },
  {
   "cell_type": "code",
   "execution_count": 106,
   "id": "36a902ee",
   "metadata": {},
   "outputs": [
    {
     "data": {
      "text/plain": [
       "Season\n",
       "1    102.966667\n",
       "2    226.466667\n",
       "3     57.166667\n",
       "4     14.233333\n",
       "Name: 강수량(mm), dtype: float64"
      ]
     },
     "execution_count": 106,
     "metadata": {},
     "output_type": "execute_result"
    }
   ],
   "source": [
    "All_P_Y_G = All_P_Y.groupby('Season')['강수량(mm)'].mean()\n",
    "All_P_Y_G"
   ]
  },
  {
   "cell_type": "code",
   "execution_count": 107,
   "id": "6f00e10d",
   "metadata": {
    "scrolled": true
   },
   "outputs": [
    {
     "data": {
      "image/png": "[encoded data removed]",
      "text/plain": [
       "<Figure size 432x288 with 1 Axes>"
      ]
     },
     "metadata": {},
     "output_type": "display_data"
    }
   ],
   "source": [
    "plt.rc('font',family = 'AppleGothic')\n",
    "plt.figure()\n",
    "plt.pie(All_P_Y_G,\n",
    "       labels = ['봄','여름','가을','겨울'],\n",
    "        autopct = '%.2f%%',\n",
    "        colors = ['orange','red','green','blue'],\n",
    "        startangle = 90\n",
    "       )\n",
    "plt.title(str(day_y)+\"년 \"+Point+\"지역 계절별 강수량 \")\n",
    "plt.show()"
   ]
  },
  {
   "cell_type": "code",
   "execution_count": null,
   "id": "88272ec3",
   "metadata": {},
   "outputs": [],
   "source": []
  },
  {
   "cell_type": "code",
   "execution_count": null,
   "id": "06d6634a",
   "metadata": {},
   "outputs": [],
   "source": []
  },
  {
   "cell_type": "code",
   "execution_count": null,
   "id": "03034175",
   "metadata": {},
   "outputs": [],
   "source": []
  },
  {
   "cell_type": "code",
   "execution_count": null,
   "id": "1c1ac483",
   "metadata": {},
   "outputs": [],
   "source": []
  },
  {
   "cell_type": "code",
   "execution_count": null,
   "id": "c6f585f8",
   "metadata": {},
   "outputs": [],
   "source": []
  },
  {
   "cell_type": "code",
   "execution_count": null,
   "id": "21ff0c71",
   "metadata": {},
   "outputs": [],
   "source": []
  },
  {
   "cell_type": "code",
   "execution_count": null,
   "id": "d3676424",
   "metadata": {},
   "outputs": [],
   "source": []
  },
  {
   "cell_type": "code",
   "execution_count": null,
   "id": "2b664bec",
   "metadata": {},
   "outputs": [],
   "source": []
  },
  {
   "cell_type": "code",
   "execution_count": null,
   "id": "84cb6d28",
   "metadata": {},
   "outputs": [],
   "source": []
  },
  {
   "cell_type": "code",
   "execution_count": null,
   "id": "5baf6a30",
   "metadata": {},
   "outputs": [],
   "source": []
  },
  {
   "cell_type": "code",
   "execution_count": null,
   "id": "71718502",
   "metadata": {},
   "outputs": [],
   "source": []
  },
  {
   "cell_type": "code",
   "execution_count": null,
   "id": "348ba902",
   "metadata": {},
   "outputs": [],
   "source": []
  },
  {
   "cell_type": "code",
   "execution_count": null,
   "id": "6f9ad403",
   "metadata": {},
   "outputs": [],
   "source": []
  },
  {
   "cell_type": "code",
   "execution_count": null,
   "id": "49aed30d",
   "metadata": {},
   "outputs": [],
   "source": []
  },
  {
   "cell_type": "code",
   "execution_count": null,
   "id": "0b40e9f4",
   "metadata": {},
   "outputs": [],
   "source": []
  },
  {
   "cell_type": "code",
   "execution_count": null,
   "id": "1309fb98",
   "metadata": {},
   "outputs": [],
   "source": []
  },
  {
   "cell_type": "code",
   "execution_count": null,
   "id": "1fe921ad",
   "metadata": {},
   "outputs": [],
   "source": []
  },
  {
   "cell_type": "code",
   "execution_count": null,
   "id": "02acf807",
   "metadata": {},
   "outputs": [],
   "source": []
  },
  {
   "cell_type": "code",
   "execution_count": null,
   "id": "cf2383dc",
   "metadata": {},
   "outputs": [],
   "source": []
  },
  {
   "cell_type": "code",
   "execution_count": null,
   "id": "7ba1a186",
   "metadata": {},
   "outputs": [],
   "source": []
  },
  {
   "cell_type": "code",
   "execution_count": null,
   "id": "fe05f1ad",
   "metadata": {},
   "outputs": [],
   "source": []
  },
  {
   "cell_type": "code",
   "execution_count": null,
   "id": "8917457d",
   "metadata": {},
   "outputs": [],
   "source": []
  },
  {
   "cell_type": "code",
   "execution_count": null,
   "id": "5ad35ba5",
   "metadata": {},
   "outputs": [],
   "source": []
  },
  {
   "cell_type": "code",
   "execution_count": null,
   "id": "1e40c742",
   "metadata": {},
   "outputs": [],
   "source": []
  },
  {
   "cell_type": "code",
   "execution_count": null,
   "id": "ffee52c5",
   "metadata": {},
   "outputs": [],
   "source": []
  },
  {
   "cell_type": "code",
   "execution_count": null,
   "id": "04a8f143",
   "metadata": {},
   "outputs": [],
   "source": []
  }
 ],
 "metadata": {
  "kernelspec": {
   "display_name": "Python 3 (ipykernel)",
   "language": "python",
   "name": "python3"
  },
  "language_info": {
   "codemirror_mode": {
    "name": "ipython",
    "version": 3
   },
   "file_extension": ".py",
   "mimetype": "text/x-python",
   "name": "python",
   "nbconvert_exporter": "python",
   "pygments_lexer": "ipython3",
   "version": "3.9.12"
  }
 },
 "nbformat": 4,
 "nbformat_minor": 5
}
