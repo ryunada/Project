{
 "cells": [
  {
   "cell_type": "markdown",
   "id": "ab607147",
   "metadata": {},
   "source": [
    "# 새로운 레시피 데이터\n",
    "https://kadx.co.kr/product/detail/0c5ec800-4fc2-11eb-8b6e-e776ccea3964"
   ]
  },
  {
   "cell_type": "code",
   "execution_count": 4,
   "id": "f07c0b6a",
   "metadata": {},
   "outputs": [],
   "source": [
    "import pandas as pd\n",
    "import os"
   ]
  },
  {
   "cell_type": "code",
   "execution_count": 5,
   "id": "b021da23",
   "metadata": {},
   "outputs": [
    {
     "name": "stdout",
     "output_type": "stream",
     "text": [
      "/Users/ryu/Desktop/데스크탑 - ryuseungho의 MacBook Air/2022/1st_Project\n",
      "/Users/ryu/Desktop/데스크탑 - ryuseungho의 MacBook Air/2022/1st_Project/Data\n"
     ]
    }
   ],
   "source": [
    "# 경로 설정\n",
    "print(os.getcwd())\n",
    "os.chdir('/Users/ryu/Desktop/데스크탑 - ryuseungho의 MacBook Air/2022/1st_Project/Data')\n",
    "print(os.getcwd())"
   ]
  },
  {
   "cell_type": "code",
   "execution_count": 6,
   "id": "54ec890f",
   "metadata": {},
   "outputs": [],
   "source": [
    "RCP = pd.read_csv('RCP.csv', encoding = 'cp949')"
   ]
  },
  {
   "cell_type": "code",
   "execution_count": 7,
   "id": "07c8cefb",
   "metadata": {},
   "outputs": [
    {
     "name": "stdout",
     "output_type": "stream",
     "text": [
      "<class 'pandas.core.frame.DataFrame'>\n",
      "RangeIndex: 128400 entries, 0 to 128399\n",
      "Data columns (total 18 columns):\n",
      " #   Column            Non-Null Count   Dtype \n",
      "---  ------            --------------   ----- \n",
      " 0   RCP_SNO           128400 non-null  int64 \n",
      " 1   RCP_TTL           128400 non-null  object\n",
      " 2   CKG_NM            126310 non-null  object\n",
      " 3   RGTR_ID           128400 non-null  object\n",
      " 4   RGTR_NM           128394 non-null  object\n",
      " 5   INQ_CNT           128400 non-null  int64 \n",
      " 6   RCMM_CNT          128400 non-null  int64 \n",
      " 7   SRAP_CNT          128400 non-null  int64 \n",
      " 8   CKG_MTH_ACTO_NM   128400 non-null  object\n",
      " 9   CKG_STA_ACTO_NM   127510 non-null  object\n",
      " 10  CKG_MTRL_ACTO_NM  128400 non-null  object\n",
      " 11  CKG_KND_ACTO_NM   128400 non-null  object\n",
      " 12  CKG_IPDC          127783 non-null  object\n",
      " 13  CKG_MTRL_CN       127340 non-null  object\n",
      " 14  CKG_INBUN_NM      124171 non-null  object\n",
      " 15  CKG_DODF_NM       128137 non-null  object\n",
      " 16  CKG_TIME_NM       120054 non-null  object\n",
      " 17  FIRST_REG_DT      128400 non-null  int64 \n",
      "dtypes: int64(5), object(13)\n",
      "memory usage: 17.6+ MB\n"
     ]
    }
   ],
   "source": [
    "RCP.info()"
   ]
  },
  {
   "cell_type": "code",
   "execution_count": 8,
   "id": "e7f4e76c",
   "metadata": {},
   "outputs": [
    {
     "data": {
      "text/plain": [
       "RCP_SNO                0\n",
       "RCP_TTL                0\n",
       "CKG_NM              2090\n",
       "RGTR_ID                0\n",
       "RGTR_NM                6\n",
       "INQ_CNT                0\n",
       "RCMM_CNT               0\n",
       "SRAP_CNT               0\n",
       "CKG_MTH_ACTO_NM        0\n",
       "CKG_STA_ACTO_NM      890\n",
       "CKG_MTRL_ACTO_NM       0\n",
       "CKG_KND_ACTO_NM        0\n",
       "CKG_IPDC             617\n",
       "CKG_MTRL_CN         1060\n",
       "CKG_INBUN_NM        4229\n",
       "CKG_DODF_NM          263\n",
       "CKG_TIME_NM         8346\n",
       "FIRST_REG_DT           0\n",
       "dtype: int64"
      ]
     },
     "execution_count": 8,
     "metadata": {},
     "output_type": "execute_result"
    }
   ],
   "source": [
    "RCP.isnull().sum()"
   ]
  },
  {
   "cell_type": "markdown",
   "id": "93158918",
   "metadata": {},
   "source": [
    "# 전체 속성 명\n",
    "RCP_SNO  \n",
    "RCP_TTL  \n",
    "CKG_NM  \n",
    "RGTR_ID  \n",
    "RGTR_NM  \n",
    "INQ_CNT  \n",
    "RCMM_CNT  \n",
    "SRAP_CNT  \n",
    "CKG_MTH_ACTO_NM  \n",
    "CKG_STA_ACTO_NM  \n",
    "CKG_MTRL_ACTO_NM  \n",
    "CKG_KND_ACTO_NM  \n",
    "CKG_IPDC  \n",
    "CKG_MTRL_CN  \n",
    "CKG_INBUN_NM  \n",
    "CKG_DODF_NM  \n",
    "CKG_TIME_NM  \n",
    "FIRST_REG_DT  "
   ]
  },
  {
   "cell_type": "code",
   "execution_count": 9,
   "id": "f254433e",
   "metadata": {},
   "outputs": [],
   "source": [
    "# 필요없는 속성\n",
    "drop_list = ['RCP_SNO','RCP_TTL','RGTR_ID','RGTR_NM','CKG_IPDC','FIRST_REG_DT']"
   ]
  },
  {
   "cell_type": "code",
   "execution_count": 10,
   "id": "78af07cd",
   "metadata": {},
   "outputs": [],
   "source": [
    "# 필요 없는 null값제거\n",
    "RCP = RCP.drop(drop_list,axis = 1)"
   ]
  },
  {
   "cell_type": "code",
   "execution_count": 11,
   "id": "5ff214e3",
   "metadata": {
    "scrolled": true
   },
   "outputs": [
    {
     "data": {
      "text/plain": [
       "CKG_NM              2090\n",
       "INQ_CNT                0\n",
       "RCMM_CNT               0\n",
       "SRAP_CNT               0\n",
       "CKG_MTH_ACTO_NM        0\n",
       "CKG_STA_ACTO_NM      890\n",
       "CKG_MTRL_ACTO_NM       0\n",
       "CKG_KND_ACTO_NM        0\n",
       "CKG_MTRL_CN         1060\n",
       "CKG_INBUN_NM        4229\n",
       "CKG_DODF_NM          263\n",
       "CKG_TIME_NM         8346\n",
       "dtype: int64"
      ]
     },
     "execution_count": 11,
     "metadata": {},
     "output_type": "execute_result"
    }
   ],
   "source": [
    "RCP.isnull().sum()"
   ]
  },
  {
   "cell_type": "code",
   "execution_count": 12,
   "id": "7a01b894",
   "metadata": {},
   "outputs": [],
   "source": [
    "# null 값 행 제거\n",
    "RCP = RCP.dropna(axis = 0)"
   ]
  },
  {
   "cell_type": "code",
   "execution_count": 13,
   "id": "89a86b25",
   "metadata": {},
   "outputs": [
    {
     "data": {
      "text/plain": [
       "CKG_NM              0\n",
       "INQ_CNT             0\n",
       "RCMM_CNT            0\n",
       "SRAP_CNT            0\n",
       "CKG_MTH_ACTO_NM     0\n",
       "CKG_STA_ACTO_NM     0\n",
       "CKG_MTRL_ACTO_NM    0\n",
       "CKG_KND_ACTO_NM     0\n",
       "CKG_MTRL_CN         0\n",
       "CKG_INBUN_NM        0\n",
       "CKG_DODF_NM         0\n",
       "CKG_TIME_NM         0\n",
       "dtype: int64"
      ]
     },
     "execution_count": 13,
     "metadata": {},
     "output_type": "execute_result"
    }
   ],
   "source": [
    "# null값 제거 확인\n",
    "RCP.isnull().sum()"
   ]
  },
  {
   "cell_type": "code",
   "execution_count": 14,
   "id": "e31e832d",
   "metadata": {},
   "outputs": [],
   "source": [
    "# CKG_NM에서 중복 값 제거 첫번째만 남김\n",
    "RCP = RCP.drop_duplicates(['CKG_NM'], keep = 'first')"
   ]
  },
  {
   "cell_type": "code",
   "execution_count": 15,
   "id": "28728f20",
   "metadata": {},
   "outputs": [
    {
     "data": {
      "text/html": [
       "<div>\n",
       "<style scoped>\n",
       "    .dataframe tbody tr th:only-of-type {\n",
       "        vertical-align: middle;\n",
       "    }\n",
       "\n",
       "    .dataframe tbody tr th {\n",
       "        vertical-align: top;\n",
       "    }\n",
       "\n",
       "    .dataframe thead th {\n",
       "        text-align: right;\n",
       "    }\n",
       "</style>\n",
       "<table border=\"1\" class=\"dataframe\">\n",
       "  <thead>\n",
       "    <tr style=\"text-align: right;\">\n",
       "      <th></th>\n",
       "      <th>CKG_NM</th>\n",
       "      <th>INQ_CNT</th>\n",
       "      <th>RCMM_CNT</th>\n",
       "      <th>SRAP_CNT</th>\n",
       "      <th>CKG_MTH_ACTO_NM</th>\n",
       "      <th>CKG_STA_ACTO_NM</th>\n",
       "      <th>CKG_MTRL_ACTO_NM</th>\n",
       "      <th>CKG_KND_ACTO_NM</th>\n",
       "      <th>CKG_MTRL_CN</th>\n",
       "      <th>CKG_INBUN_NM</th>\n",
       "      <th>CKG_DODF_NM</th>\n",
       "      <th>CKG_TIME_NM</th>\n",
       "    </tr>\n",
       "  </thead>\n",
       "  <tbody>\n",
       "    <tr>\n",
       "      <th>0</th>\n",
       "      <td>어묵김말이</td>\n",
       "      <td>9592</td>\n",
       "      <td>6</td>\n",
       "      <td>66</td>\n",
       "      <td>튀김</td>\n",
       "      <td>간식</td>\n",
       "      <td>가공식품류</td>\n",
       "      <td>디저트</td>\n",
       "      <td>[재료] 어묵 2개| 김밥용김 3장| 당면 1움큼| 양파 1/2개| 당근 1/2개|...</td>\n",
       "      <td>2인분</td>\n",
       "      <td>초급</td>\n",
       "      <td>60분이내</td>\n",
       "    </tr>\n",
       "    <tr>\n",
       "      <th>3</th>\n",
       "      <td>현미호두죽</td>\n",
       "      <td>2912</td>\n",
       "      <td>0</td>\n",
       "      <td>9</td>\n",
       "      <td>끓이기</td>\n",
       "      <td>일상</td>\n",
       "      <td>쌀</td>\n",
       "      <td>밥/죽/떡</td>\n",
       "      <td>[재료] 현미 4컵| 찹쌀 2컵| 호두 50g| 물 1/2컵| 소금 약간</td>\n",
       "      <td>2인분</td>\n",
       "      <td>초급</td>\n",
       "      <td>30분이내</td>\n",
       "    </tr>\n",
       "    <tr>\n",
       "      <th>4</th>\n",
       "      <td>북어갈비</td>\n",
       "      <td>6865</td>\n",
       "      <td>3</td>\n",
       "      <td>97</td>\n",
       "      <td>굽기</td>\n",
       "      <td>술안주</td>\n",
       "      <td>건어물류</td>\n",
       "      <td>메인반찬</td>\n",
       "      <td>[재료] 북어포 1마리| 찹쌀가루 1C [양념] 간장 2T| 설탕 1T| 물 1T|...</td>\n",
       "      <td>2인분</td>\n",
       "      <td>초급</td>\n",
       "      <td>60분이내</td>\n",
       "    </tr>\n",
       "    <tr>\n",
       "      <th>5</th>\n",
       "      <td>토마토스파게티</td>\n",
       "      <td>12754</td>\n",
       "      <td>2</td>\n",
       "      <td>36</td>\n",
       "      <td>볶음</td>\n",
       "      <td>일상</td>\n",
       "      <td>가공식품류</td>\n",
       "      <td>면/만두</td>\n",
       "      <td>[재료] 파스타면 [양념] 토마토 1개| 토마토 페이스트 3T| 양파 1/2개| 다...</td>\n",
       "      <td>1인분</td>\n",
       "      <td>초급</td>\n",
       "      <td>30분이내</td>\n",
       "    </tr>\n",
       "    <tr>\n",
       "      <th>6</th>\n",
       "      <td>표고버섯탕수</td>\n",
       "      <td>16053</td>\n",
       "      <td>2</td>\n",
       "      <td>194</td>\n",
       "      <td>튀김</td>\n",
       "      <td>손님접대</td>\n",
       "      <td>버섯류</td>\n",
       "      <td>메인반찬</td>\n",
       "      <td>[재료] 건표고버섯 9개| 오이 1/2개| 당근 1/2개| 양파 1/2개| 사과 1...</td>\n",
       "      <td>2인분</td>\n",
       "      <td>초급</td>\n",
       "      <td>30분이내</td>\n",
       "    </tr>\n",
       "    <tr>\n",
       "      <th>...</th>\n",
       "      <td>...</td>\n",
       "      <td>...</td>\n",
       "      <td>...</td>\n",
       "      <td>...</td>\n",
       "      <td>...</td>\n",
       "      <td>...</td>\n",
       "      <td>...</td>\n",
       "      <td>...</td>\n",
       "      <td>...</td>\n",
       "      <td>...</td>\n",
       "      <td>...</td>\n",
       "      <td>...</td>\n",
       "    </tr>\n",
       "    <tr>\n",
       "      <th>128366</th>\n",
       "      <td>견과류멸치볶음주먹밥</td>\n",
       "      <td>1081</td>\n",
       "      <td>0</td>\n",
       "      <td>29</td>\n",
       "      <td>비빔</td>\n",
       "      <td>초스피드</td>\n",
       "      <td>건어물류</td>\n",
       "      <td>밥/죽/떡</td>\n",
       "      <td>[재료] 밥 1공기(1팩)| 견과류 멸치볶음 3~4큰술| 김가루 2큰술 [양념] 마...</td>\n",
       "      <td>2인분</td>\n",
       "      <td>아무나</td>\n",
       "      <td>10분이내</td>\n",
       "    </tr>\n",
       "    <tr>\n",
       "      <th>128391</th>\n",
       "      <td>상추치커리무침</td>\n",
       "      <td>3206</td>\n",
       "      <td>0</td>\n",
       "      <td>63</td>\n",
       "      <td>무침</td>\n",
       "      <td>초스피드</td>\n",
       "      <td>채소류</td>\n",
       "      <td>샐러드</td>\n",
       "      <td>[재료] 치커리 200g| 상추 6~7장 [양념] 조림간장 1+1/2큰술| 다진마늘...</td>\n",
       "      <td>3인분</td>\n",
       "      <td>아무나</td>\n",
       "      <td>10분이내</td>\n",
       "    </tr>\n",
       "    <tr>\n",
       "      <th>128392</th>\n",
       "      <td>계란순대전</td>\n",
       "      <td>1189</td>\n",
       "      <td>0</td>\n",
       "      <td>15</td>\n",
       "      <td>부침</td>\n",
       "      <td>초스피드</td>\n",
       "      <td>가공식품류</td>\n",
       "      <td>메인반찬</td>\n",
       "      <td>[재료] 순대 400g| 청양고추 1개| 계란 3개 [양념] 소금 2꼬집| 올리브유...</td>\n",
       "      <td>2인분</td>\n",
       "      <td>아무나</td>\n",
       "      <td>10분이내</td>\n",
       "    </tr>\n",
       "    <tr>\n",
       "      <th>128393</th>\n",
       "      <td>만두피디저트</td>\n",
       "      <td>632</td>\n",
       "      <td>0</td>\n",
       "      <td>35</td>\n",
       "      <td>굽기</td>\n",
       "      <td>간식</td>\n",
       "      <td>기타</td>\n",
       "      <td>디저트</td>\n",
       "      <td>[재료] 만두피 10개| 크림치즈 110g| 우유 4큰술| 딸기 14개| 슈거파우더...</td>\n",
       "      <td>5인분</td>\n",
       "      <td>초급</td>\n",
       "      <td>60분이내</td>\n",
       "    </tr>\n",
       "    <tr>\n",
       "      <th>128395</th>\n",
       "      <td>양배추스프커리</td>\n",
       "      <td>1049</td>\n",
       "      <td>0</td>\n",
       "      <td>21</td>\n",
       "      <td>볶음</td>\n",
       "      <td>일상</td>\n",
       "      <td>채소류</td>\n",
       "      <td>스프</td>\n",
       "      <td>[재료] 양배추 1/4통| 양파 1/2개| 편마늘 1숟가락| 식용유 적당히| 물 2...</td>\n",
       "      <td>1인분</td>\n",
       "      <td>아무나</td>\n",
       "      <td>10분이내</td>\n",
       "    </tr>\n",
       "  </tbody>\n",
       "</table>\n",
       "<p>35964 rows × 12 columns</p>\n",
       "</div>"
      ],
      "text/plain": [
       "            CKG_NM  INQ_CNT  RCMM_CNT  SRAP_CNT CKG_MTH_ACTO_NM  \\\n",
       "0            어묵김말이     9592         6        66              튀김   \n",
       "3            현미호두죽     2912         0         9             끓이기   \n",
       "4             북어갈비     6865         3        97              굽기   \n",
       "5          토마토스파게티    12754         2        36              볶음   \n",
       "6           표고버섯탕수    16053         2       194              튀김   \n",
       "...            ...      ...       ...       ...             ...   \n",
       "128366  견과류멸치볶음주먹밥     1081         0        29              비빔   \n",
       "128391     상추치커리무침     3206         0        63              무침   \n",
       "128392       계란순대전     1189         0        15              부침   \n",
       "128393      만두피디저트      632         0        35              굽기   \n",
       "128395     양배추스프커리     1049         0        21              볶음   \n",
       "\n",
       "       CKG_STA_ACTO_NM CKG_MTRL_ACTO_NM CKG_KND_ACTO_NM  \\\n",
       "0                   간식            가공식품류             디저트   \n",
       "3                   일상                쌀           밥/죽/떡   \n",
       "4                  술안주             건어물류            메인반찬   \n",
       "5                   일상            가공식품류            면/만두   \n",
       "6                 손님접대              버섯류            메인반찬   \n",
       "...                ...              ...             ...   \n",
       "128366            초스피드             건어물류           밥/죽/떡   \n",
       "128391            초스피드              채소류             샐러드   \n",
       "128392            초스피드            가공식품류            메인반찬   \n",
       "128393              간식               기타             디저트   \n",
       "128395              일상              채소류              스프   \n",
       "\n",
       "                                              CKG_MTRL_CN CKG_INBUN_NM  \\\n",
       "0       [재료] 어묵 2개| 김밥용김 3장| 당면 1움큼| 양파 1/2개| 당근 1/2개|...          2인분   \n",
       "3                [재료] 현미 4컵| 찹쌀 2컵| 호두 50g| 물 1/2컵| 소금 약간          2인분   \n",
       "4       [재료] 북어포 1마리| 찹쌀가루 1C [양념] 간장 2T| 설탕 1T| 물 1T|...          2인분   \n",
       "5       [재료] 파스타면 [양념] 토마토 1개| 토마토 페이스트 3T| 양파 1/2개| 다...          1인분   \n",
       "6       [재료] 건표고버섯 9개| 오이 1/2개| 당근 1/2개| 양파 1/2개| 사과 1...          2인분   \n",
       "...                                                   ...          ...   \n",
       "128366  [재료] 밥 1공기(1팩)| 견과류 멸치볶음 3~4큰술| 김가루 2큰술 [양념] 마...          2인분   \n",
       "128391  [재료] 치커리 200g| 상추 6~7장 [양념] 조림간장 1+1/2큰술| 다진마늘...          3인분   \n",
       "128392  [재료] 순대 400g| 청양고추 1개| 계란 3개 [양념] 소금 2꼬집| 올리브유...          2인분   \n",
       "128393  [재료] 만두피 10개| 크림치즈 110g| 우유 4큰술| 딸기 14개| 슈거파우더...          5인분   \n",
       "128395  [재료] 양배추 1/4통| 양파 1/2개| 편마늘 1숟가락| 식용유 적당히| 물 2...          1인분   \n",
       "\n",
       "       CKG_DODF_NM CKG_TIME_NM  \n",
       "0               초급       60분이내  \n",
       "3               초급       30분이내  \n",
       "4               초급       60분이내  \n",
       "5               초급       30분이내  \n",
       "6               초급       30분이내  \n",
       "...            ...         ...  \n",
       "128366         아무나       10분이내  \n",
       "128391         아무나       10분이내  \n",
       "128392         아무나       10분이내  \n",
       "128393          초급       60분이내  \n",
       "128395         아무나       10분이내  \n",
       "\n",
       "[35964 rows x 12 columns]"
      ]
     },
     "execution_count": 15,
     "metadata": {},
     "output_type": "execute_result"
    }
   ],
   "source": [
    "RCP"
   ]
  },
  {
   "cell_type": "code",
   "execution_count": 16,
   "id": "4fb088bb",
   "metadata": {},
   "outputs": [],
   "source": [
    "RCP_Name = RCP['CKG_NM']"
   ]
  },
  {
   "cell_type": "code",
   "execution_count": 17,
   "id": "246e095b",
   "metadata": {},
   "outputs": [
    {
     "data": {
      "text/plain": [
       "0              어묵김말이\n",
       "3              현미호두죽\n",
       "4               북어갈비\n",
       "5            토마토스파게티\n",
       "6             표고버섯탕수\n",
       "             ...    \n",
       "128366    견과류멸치볶음주먹밥\n",
       "128391       상추치커리무침\n",
       "128392         계란순대전\n",
       "128393        만두피디저트\n",
       "128395       양배추스프커리\n",
       "Name: CKG_NM, Length: 35964, dtype: object"
      ]
     },
     "execution_count": 17,
     "metadata": {},
     "output_type": "execute_result"
    }
   ],
   "source": [
    "RCP_Name"
   ]
  },
  {
   "cell_type": "code",
   "execution_count": 19,
   "id": "2f6b7948",
   "metadata": {},
   "outputs": [],
   "source": [
    "# RCP_Name.to_csv('./RCP_RE_NM.csv',index =False, encoding = 'cp949')"
   ]
  }
 ],
 "metadata": {
  "kernelspec": {
   "display_name": "Python 3 (ipykernel)",
   "language": "python",
   "name": "python3"
  },
  "language_info": {
   "codemirror_mode": {
    "name": "ipython",
    "version": 3
   },
   "file_extension": ".py",
   "mimetype": "text/x-python",
   "name": "python",
   "nbconvert_exporter": "python",
   "pygments_lexer": "ipython3",
   "version": "3.9.13"
  }
 },
 "nbformat": 4,
 "nbformat_minor": 5
}
