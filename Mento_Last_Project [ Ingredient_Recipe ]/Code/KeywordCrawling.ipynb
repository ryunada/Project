{
 "cells": [
  {
   "cell_type": "markdown",
   "id": "38c52570",
   "metadata": {},
   "source": [
    "---\n",
    "# 키워드 검색량 크롤링\n",
    "https://keywordsound.com/"
   ]
  },
  {
   "cell_type": "code",
   "execution_count": null,
   "id": "c3d54669",
   "metadata": {},
   "outputs": [],
   "source": [
    "import urllib.request\n",
    "from urllib import parse\n",
    "from bs4 import BeautifulSoup\n",
    "import ssl\n",
    "import numpy as np\n",
    "\n",
    "import pandas as pd\n",
    "from selenium import webdriver\n",
    "import time\n"
   ]
  },
  {
   "cell_type": "code",
   "execution_count": null,
   "id": "98b50d01",
   "metadata": {},
   "outputs": [],
   "source": [
    "# 작업 경로 설정\n",
    "import os\n",
    "print(os.getcwd())\n",
    "os.chdir('/Users/ryu/Desktop/데스크탑 - ryuseungho의 MacBook Air/2022/1st_Project/Data')\n",
    "print(os.getcwd())"
   ]
  },
  {
   "cell_type": "code",
   "execution_count": null,
   "id": "83290da4",
   "metadata": {},
   "outputs": [],
   "source": [
    "from selenium.webdriver.common.keys import Keys"
   ]
  },
  {
   "cell_type": "code",
   "execution_count": null,
   "id": "89d7b2a9",
   "metadata": {},
   "outputs": [],
   "source": [
    "import pandas as pd\n",
    "from selenium import webdriver\n",
    "import time\n",
    "\n",
    "# 크롬 드라이버를 사용해서 웹 브라우저를 실행\n",
    "driver = webdriver.Chrome('/Users/ryu/Desktop/         데스크탑 - ryuseungho의 MacBook Air/2022/1st_Project/ChromeDriver(mac)/chromedriver')\n",
    "url = 'https://keywordsound.com' # 키워드 사운드 url\n",
    "driver.get(url)\n",
    "# driver = webdriver.Chrome(path)\n",
    "\n",
    "\n",
    "# driver.get(url)\n",
    "# print(url)\n",
    "search = pd.read_csv('./RCPTitle.csv')\n",
    "\n",
    "df_dict = search.to_dict()\n",
    "df_dict = list(df_dict['RCP_NM'].values()) # 레시피 명 \n",
    "\n",
    "\n",
    "for i in range(len(df_dict)):\n",
    "    # 키워드 검색\n",
    "    \n",
    "    driver.find_element_by_xpath('//*[@id=\"kt_content_container\"]/div/div/div[1]/div[2]/div/div/div/div/input').send_keys(df_dict[i])\n",
    "        \n",
    "    # 검색 버튼 클릭\n",
    "    driver.find_element_by_xpath('//*[@id=\"kt_content_container\"]/div/div/div[1]/div[2]/div/div/div/div/button').click()\n",
    "    time.sleep(20) # 15초대기\n",
    "\n",
    "    # 날짜 선택\n",
    "    driver.find_element_by_xpath('//*[@id=\"inputDateRange\"]').click()\n",
    "    # 직접 선택 클릭\n",
    "    driver.find_element_by_xpath('//*[@id=\"kt_body\"]/div[3]/div[1]/ul/li[4]').click()\n",
    "\n",
    "    # 다운로드 클릭\n",
    "    driver.find_element_by_xpath('//*[@id=\"btnExportExcel\"]/span').click()\n",
    "\n",
    "    # 되돌아가기\n",
    "    driver.back()\n",
    "    driver.find_element_by_xpath('//*[@id=\"kt_content_container\"]/div/div/div[1]/div[2]/div/div/div/div/input').clear()\n",
    "\n",
    "# 한번의 키워드 검색 후 검색창 경로//*[@id=\"kt_content_container\"]/div[2]/div[1]/div/div[2]/div/textarea\n",
    "\n",
    "# 날짜 설정\n",
    "# driver.find"
   ]
  }
 ],
 "metadata": {
  "kernelspec": {
   "display_name": "Python 3 (ipykernel)",
   "language": "python",
   "name": "python3"
  },
  "language_info": {
   "codemirror_mode": {
    "name": "ipython",
    "version": 3
   },
   "file_extension": ".py",
   "mimetype": "text/x-python",
   "name": "python",
   "nbconvert_exporter": "python",
   "pygments_lexer": "ipython3",
   "version": "3.9.13"
  }
 },
 "nbformat": 4,
 "nbformat_minor": 5
}
