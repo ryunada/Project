{
 "cells": [
  {
   "cell_type": "markdown",
   "id": "38c52570",
   "metadata": {},
   "source": [
    "---\n",
    "# 키워드 검색량 크롤링\n",
    "https://keywordsound.com/"
   ]
  },
  {
   "cell_type": "code",
   "execution_count": null,
   "id": "c3d54669",
   "metadata": {},
   "outputs": [],
   "source": [
    "import urllib.request\n",
    "from urllib import parse\n",
    "from bs4 import BeautifulSoup\n",
    "import ssl\n",
    "import numpy as np\n",
    "\n",
    "import pandas as pd\n",
    "from selenium import webdriver\n",
    "import time\n"
   ]
  },
  {
   "cell_type": "code",
   "execution_count": null,
   "id": "98b50d01",
   "metadata": {},
   "outputs": [],
   "source": [
    "# 작업 경로 설정\n",
    "import os\n",
    "print(os.getcwd())\n",
    "os.chdir('/Users/ryu/Desktop/데스크탑 - ryuseungho의 MacBook Air/2022/1st_Project/Data')\n",
    "print(os.getcwd())"
   ]
  },
  {
   "cell_type": "code",
   "execution_count": null,
   "id": "83290da4",
   "metadata": {},
   "outputs": [],
   "source": [
    "from selenium.webdriver.common.keys import Keys"
   ]
  },
  {
   "cell_type": "code",
   "execution_count": null,
   "id": "89d7b2a9",
   "metadata": {},
   "outputs": [],
   "source": [
    "from selenium import webdriver as wd\n",
    "import time\n",
    "import pandas as pd\n",
    "from selenium.webdriver.chrome.options import Options\n",
    "\n",
    "options = Options()\n",
    "options.use_chromium = True\n",
    "options.add_experimental_option(\"prefs\", {\n",
    "    \"download.default_directory\": r\"C:\\Users\\stat\\Desktop\\ryu\\1st\\Keyword\",\n",
    "    \"download.prompt_for_download\": False,\n",
    "    \"download.directory_upgrade\": True,\n",
    "    \"safebrowsing.enabled\": True\n",
    "})\n",
    "driver = wd.Chrome(r'C:\\Users\\stat\\Desktop\\ryu\\1st\\Chromedriver\\chromedriver.exe', options=options)\n",
    "driver.get('https://keywordsound.com/service/keyword-analysis')\n",
    "\n",
    "df = pd.read_csv(r'C:\\Users\\stat\\Desktop\\ryu\\1st\\RCP_RE_NM.csv', encoding='cp949')\n",
    "# print(df.head())\n",
    "\n",
    "df_dict = df.to_dict()\n",
    "df_dict = list(df_dict['CKG_NM'].values())\n",
    "\n",
    "for i in range(1823, len(df_dict)): # 1788, 1789\n",
    "    driver.find_element_by_xpath('//*[@id=\"kt_content_container\"]/div/div/div[1]/div[2]/div/div/div/div/input').clear()\n",
    "    driver.find_element_by_xpath('//*[@id=\"kt_content_container\"]/div/div/div[1]/div[2]/div/div/div/div/input').send_keys(df_dict[i])\n",
    "\n",
    "    driver.find_element_by_xpath('//*[@id=\"kt_content_container\"]/div/div/div[1]/div[2]/div/div/div/div/button').click()\n",
    "    time.sleep(15)  # 15초대기\n",
    "\n",
    "    # 날짜 선택\n",
    "    driver.find_element_by_xpath('//*[@id=\"inputDateRange\"]').click()\n",
    "    # 직접 선택 클릭\n",
    "    driver.find_element_by_xpath('//*[@id=\"kt_body\"]/div[3]/div[1]/ul/li[4]').click()\n",
    "\n",
    "    # 다운로드 클릭\n",
    "    driver.find_element_by_xpath('//*[@id=\"btnExportExcel\"]/span').click()\n",
    "\n",
    "    # 되돌아가기\n",
    "    driver.back()"
   ]
  },
  {
   "cell_type": "code",
   "execution_count": null,
   "id": "c3ab22c8",
   "metadata": {},
   "outputs": [],
   "source": []
  }
 ],
 "metadata": {
  "kernelspec": {
   "display_name": "Python 3 (ipykernel)",
   "language": "python",
   "name": "python3"
  },
  "language_info": {
   "codemirror_mode": {
    "name": "ipython",
    "version": 3
   },
   "file_extension": ".py",
   "mimetype": "text/x-python",
   "name": "python",
   "nbconvert_exporter": "python",
   "pygments_lexer": "ipython3",
   "version": "3.9.13"
  }
 },
 "nbformat": 4,
 "nbformat_minor": 5
}
