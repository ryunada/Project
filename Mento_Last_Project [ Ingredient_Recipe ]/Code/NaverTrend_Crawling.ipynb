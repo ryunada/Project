{
 "cells": [
  {
   "cell_type": "code",
   "execution_count": null,
   "id": "d38cc350",
   "metadata": {},
   "outputs": [],
   "source": [
    "from selenium import webdriver as wd\n",
    "import time\n",
    "import pandas as pd\n",
    "\n",
    "driver = wd.Chrome('C:/Users/rst30/Desktop/1st_Project/ChromeDriver(win)/chromedriver.exe')\n",
    "driver.get('https://datalab.naver.com/keyword/trendSearch.naver')\n",
    "\n",
    "df = pd.read_csv('C:/Users/rst30/Desktop/1st_Project/Data/RCPTitle.csv')\n",
    "# print(df.head())\n",
    "\n",
    "df_dict = df.to_dict()\n",
    "df_dict = list(df_dict['RCP_NM'].values())\n",
    "\n",
    "for i in range(len(df_dict)):\n",
    "    # 키워드\n",
    "    driver.find_element_by_id('item_keyword1').send_keys(df_dict[i])\n",
    "    # 시작 년도 월 일\n",
    "    driver.find_element_by_id('startYear').click()\n",
    "    driver.find_element_by_xpath('//*[@id=\"startYearDiv\"]/ul/li[6]/a').click()\n",
    "    driver.find_element_by_id('startMonth').click()\n",
    "    driver.find_element_by_xpath('//*[@id=\"startMonthDiv\"]/ul/li[1]/a').click()\n",
    "    driver.find_element_by_id('startDay').click()\n",
    "    driver.find_element_by_xpath('//*[@id=\"startDayDiv\"]/ul/li[1]/a').click()\n",
    "\n",
    "    # 종료 년도 월 일\n",
    "    driver.find_element_by_id('endYear').click()\n",
    "    driver.find_element_by_xpath('//*[@id=\"endYearDiv\"]/ul/li[6]/a').click()\n",
    "    driver.find_element_by_id('endMonth').click()\n",
    "    driver.find_element_by_xpath('//*[@id=\"endMonthDiv\"]/ul/li[12]/a').click()\n",
    "    driver.find_element_by_id('endDay').click()\n",
    "    driver.find_element_by_xpath('//*[@id=\"endDayDiv\"]/ul/li[31]/a').click()\n",
    "    \n",
    "    if i == 0 :\n",
    "        # 여성 / 남성 -> tiem_gender_2\n",
    "        driver.find_element_by_id('item_gender_1').click()\n",
    "\n",
    "        # 10대\n",
    "        driver.find_element_by_id('item_age_11').click()\n",
    "        \n",
    "\n",
    "    # 검색\n",
    "    driver.find_element_by_xpath('//*[@id=\"content\"]/div/div[2]/div[1]/div/form/fieldset/a/span').click()\n",
    "    time.sleep(2)\n",
    "\n",
    "    # 다운로드 후 뒤로가기\n",
    "    driver.find_element_by_xpath('//*[@id=\"content\"]/div[1]/div[1]/div[1]/div/div/div/div/div/div[1]/div[4]/a').click()\n",
    "    time.sleep(2)\n",
    "    driver.back()\n",
    "\n",
    "    # 검색어 지우기\n",
    "    driver.find_element_by_xpath('//*[@id=\"content\"]/div/div[2]/div[1]/div/form/fieldset/div/div[1]/div[1]/button/span').click()\n",
    "    driver.find_element_by_xpath('//*[@id=\"content\"]/div/div[2]/div[1]/div/form/fieldset/div/div[1]/div[2]/button/span').click()\n",
    "    time.sleep(2)"
   ]
  }
 ],
 "metadata": {
  "kernelspec": {
   "display_name": "Python 3 (ipykernel)",
   "language": "python",
   "name": "python3"
  },
  "language_info": {
   "codemirror_mode": {
    "name": "ipython",
    "version": 3
   },
   "file_extension": ".py",
   "mimetype": "text/x-python",
   "name": "python",
   "nbconvert_exporter": "python",
   "pygments_lexer": "ipython3",
   "version": "3.9.13"
  }
 },
 "nbformat": 4,
 "nbformat_minor": 5
}
